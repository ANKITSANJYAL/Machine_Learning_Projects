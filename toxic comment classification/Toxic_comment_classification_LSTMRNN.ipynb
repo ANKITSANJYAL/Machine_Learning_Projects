{
  "cells": [
    {
      "cell_type": "markdown",
      "id": "de53f64f",
      "metadata": {
        "id": "de53f64f"
      },
      "source": [
        "# Toxic comment classification "
      ]
    },
    {
      "cell_type": "code",
      "execution_count": null,
      "id": "e8711f43",
      "metadata": {
        "id": "e8711f43"
      },
      "outputs": [],
      "source": []
    },
    {
      "cell_type": "markdown",
      "id": "8b576037",
      "metadata": {
        "id": "8b576037"
      },
      "source": [
        "## Importing the libraries and loading the data"
      ]
    },
    {
      "cell_type": "code",
      "execution_count": 79,
      "id": "13268cd5",
      "metadata": {
        "id": "13268cd5"
      },
      "outputs": [],
      "source": [
        "import os, sys\n",
        "import numpy as np\n",
        "import pandas as pd\n",
        "import matplotlib.pyplot as plt\n",
        "\n",
        "import tensorflow as tf\n",
        "from keras.models import Model,Sequential\n",
        "from keras.layers import Dense,Embedding, Input , Activation\n",
        "from keras.layers import LSTM, Bidirectional, GlobalMaxPooling1D, Dropout\n",
        "from keras.preprocessing.text import Tokenizer\n",
        "from keras_preprocessing.sequence import pad_sequences\n",
        "from keras import initializers, optimizers, layers\n",
        "from sklearn.metrics import  roc_auc_score\n",
        "from sklearn.compose import make_column_transformer\n"
      ]
    },
    {
      "cell_type": "code",
      "execution_count": 86,
      "id": "ef34e2c8",
      "metadata": {
        "id": "ef34e2c8"
      },
      "outputs": [],
      "source": [
        "#Loading the Train_test data\n",
        "train = pd.read_csv('train.csv')\n",
        "test = pd.read_csv('test.csv')"
      ]
    },
    {
      "cell_type": "code",
      "source": [
        "train.iloc[12]['comment_text']"
      ],
      "metadata": {
        "colab": {
          "base_uri": "https://localhost:8080/",
          "height": 70
        },
        "id": "BqETHWgotMy9",
        "outputId": "df4e3372-e6b8-49fc-d44c-0ea1268a7c46"
      },
      "id": "BqETHWgotMy9",
      "execution_count": 87,
      "outputs": [
        {
          "output_type": "execute_result",
          "data": {
            "text/plain": [
              "'Hey... what is it..\\n@ | talk .\\nWhat is it... an exclusive group of some WP TALIBANS...who are good at destroying, self-appointed purist who GANG UP any one who asks them questions abt their ANTI-SOCIAL and DESTRUCTIVE (non)-contribution at WP?\\n\\nAsk Sityush to clean up his behavior than issue me nonsensical warnings...'"
            ],
            "application/vnd.google.colaboratory.intrinsic+json": {
              "type": "string"
            }
          },
          "metadata": {},
          "execution_count": 87
        }
      ]
    },
    {
      "cell_type": "code",
      "execution_count": 88,
      "id": "c32a1f42",
      "metadata": {
        "id": "c32a1f42"
      },
      "outputs": [],
      "source": [
        "#Listing down the Classes\n",
        "list_classes = [\"toxic\", \"severe_toxic\", \"obscene\", \"threat\", \"insult\", \"identity_hate\"]\n",
        "\n",
        "y = train[list_classes].values"
      ]
    },
    {
      "cell_type": "code",
      "execution_count": 89,
      "id": "2ab5cb59",
      "metadata": {
        "id": "2ab5cb59"
      },
      "outputs": [],
      "source": [
        "#Train and test labels\n",
        "list_sequences_train = train[\"comment_text\"]\n",
        "list_sequences_test = test[\"comment_text\"]\n",
        "\n",
        "max_features = 22000\n",
        "tokenizer = Tokenizer(num_words=max_features)\n",
        "train = tokenizer.fit_on_texts(list(list_sequences_train))\n"
      ]
    },
    {
      "cell_type": "code",
      "execution_count": 90,
      "id": "9a895f20",
      "metadata": {
        "id": "9a895f20"
      },
      "outputs": [],
      "source": [
        "#Tokenizing and Indexing the comments\n",
        "list_tokenized_train = tokenizer.texts_to_sequences(list_sequences_train)\n",
        "list_tokenized_test = tokenizer.texts_to_sequences(list_sequences_test)\n",
        "\n",
        "#Defining the train and test sequences\n",
        "#200 is the maximum length of the inut stream. Samll sentence =0, long sentences will be trimmed\n",
        "maxlen = 200\n",
        "X_train = pad_sequences(list_tokenized_train, maxlen = maxlen)\n",
        "X_test = pad_sequences(list_tokenized_test, maxlen = maxlen)"
      ]
    },
    {
      "cell_type": "code",
      "execution_count": 91,
      "id": "9c9bb247",
      "metadata": {
        "colab": {
          "base_uri": "https://localhost:8080/",
          "height": 265
        },
        "id": "9c9bb247",
        "outputId": "4e8e9fba-ce5c-46ad-b24f-7137a89f1c4a"
      },
      "outputs": [
        {
          "output_type": "display_data",
          "data": {
            "text/plain": [
              "<Figure size 432x288 with 1 Axes>"
            ],
            "image/png": "[encoded data removed]"
          },
          "metadata": {
            "needs_background": "light"
          }
        }
      ],
      "source": [
        "totalNumWords = [len(one_comment) for one_comment in list_tokenized_train]\n",
        "\n",
        "#Visualizing the Distribution of the words\n",
        "plt.hist(totalNumWords,bins = np.arange(0,410,10))\n",
        "plt.show()\n"
      ]
    },
    {
      "cell_type": "markdown",
      "source": [
        "# Lets create the cnn and rnn models and check their validation and training accuries"
      ],
      "metadata": {
        "id": "h1M7Xav3KW7A"
      },
      "id": "h1M7Xav3KW7A"
    },
    {
      "cell_type": "code",
      "execution_count": 92,
      "id": "a142a229",
      "metadata": {
        "id": "a142a229"
      },
      "outputs": [],
      "source": [
        "#Step1: Adding the first Input Layer (None,200)\n",
        "inp = Input(shape=(maxlen, ))"
      ]
    },
    {
      "cell_type": "code",
      "execution_count": 105,
      "id": "7196a8ef",
      "metadata": {
        "id": "7196a8ef"
      },
      "outputs": [],
      "source": [
        "#Step2: Adding the embedding Layer (None,200,128)\n",
        "#128 is a tunable params(Creating Word Embeddings)\n",
        "embed_size = 128\n",
        "x = Embedding(max_features, embed_size)(inp)\n",
        "\n",
        "#Step3: Defining the LSTM Layer with 60 Output\n",
        "x = LSTM(60, return_sequences=True, name='lstm_layer')(x)\n",
        "\n",
        "#Step4: Global Max Pooling Layer to convert 3D tensor into 2D\n",
        "x = GlobalMaxPooling1D()(x)\n",
        "\n",
        "#Step5: Adding a Dropout Reguralisation\n",
        "x = Dropout(0.1)(x)\n",
        "\n",
        "#Step6: Adding a Dense Layer\n",
        "x = Dense(50, activation = 'relu')(x)\n",
        "\n",
        "x = Dropout(0.1)(x)\n",
        "\n",
        "#Step7: Final Output Layer\n",
        "x = Dense(6, activation=\"sigmoid\")(x)\n",
        "\n",
        "\n",
        "model1=Model(inputs=inp, outputs = x)\n",
        "\n",
        "model1.compile(loss=\"binary_crossentropy\",\n",
        "              optimizer=\"adam\",\n",
        "              metrics=['accuracy'])\n",
        "\n",
        "batch_size = 32\n",
        "epochs = 10"
      ]
    },
    {
      "cell_type": "code",
      "source": [
        "model1.summary()"
      ],
      "metadata": {
        "colab": {
          "base_uri": "https://localhost:8080/"
        },
        "id": "MVBUbsOXt7sq",
        "outputId": "2d302f62-166e-4a4c-d75e-1aff4066e76c"
      },
      "id": "MVBUbsOXt7sq",
      "execution_count": 106,
      "outputs": [
        {
          "output_type": "stream",
          "name": "stdout",
          "text": [
            "Model: \"model_3\"\n",
            "_________________________________________________________________\n",
            " Layer (type)                Output Shape              Param #   \n",
            "=================================================================\n",
            " input_1 (InputLayer)        [(None, 200)]             0         \n",
            "                                                                 \n",
            " embedding_7 (Embedding)     (None, 200, 128)          2816000   \n",
            "                                                                 \n",
            " lstm_layer (LSTM)           (None, 200, 60)           45360     \n",
            "                                                                 \n",
            " global_max_pooling1d_4 (Glo  (None, 60)               0         \n",
            " balMaxPooling1D)                                                \n",
            "                                                                 \n",
            " dropout_8 (Dropout)         (None, 60)                0         \n",
            "                                                                 \n",
            " dense_22 (Dense)            (None, 50)                3050      \n",
            "                                                                 \n",
            " dropout_9 (Dropout)         (None, 50)                0         \n",
            "                                                                 \n",
            " dense_23 (Dense)            (None, 6)                 306       \n",
            "                                                                 \n",
            "=================================================================\n",
            "Total params: 2,864,716\n",
            "Trainable params: 2,864,716\n",
            "Non-trainable params: 0\n",
            "_________________________________________________________________\n"
          ]
        }
      ]
    },
    {
      "cell_type": "code",
      "source": [
        "history1 = model1.fit(X_train, y, batch_size = batch_size, epochs = 7, validation_split=0.1,verbose=2)"
      ],
      "metadata": {
        "colab": {
          "base_uri": "https://localhost:8080/"
        },
        "id": "mdMKlfyBt_nh",
        "outputId": "2139a939-543c-49cb-e920-3035992261bd"
      },
      "id": "mdMKlfyBt_nh",
      "execution_count": 107,
      "outputs": [
        {
          "output_type": "stream",
          "name": "stdout",
          "text": [
            "Epoch 1/7\n",
            "4488/4488 - 52s - loss: 0.0672 - accuracy: 0.9599 - val_loss: 0.0490 - val_accuracy: 0.9940 - 52s/epoch - 12ms/step\n",
            "Epoch 2/7\n",
            "4488/4488 - 49s - loss: 0.0456 - accuracy: 0.9922 - val_loss: 0.0475 - val_accuracy: 0.9933 - 49s/epoch - 11ms/step\n",
            "Epoch 3/7\n",
            "4488/4488 - 48s - loss: 0.0402 - accuracy: 0.9865 - val_loss: 0.0474 - val_accuracy: 0.9931 - 48s/epoch - 11ms/step\n",
            "Epoch 4/7\n",
            "4488/4488 - 49s - loss: 0.0353 - accuracy: 0.9570 - val_loss: 0.0490 - val_accuracy: 0.9932 - 49s/epoch - 11ms/step\n",
            "Epoch 5/7\n",
            "4488/4488 - 53s - loss: 0.0309 - accuracy: 0.8723 - val_loss: 0.0524 - val_accuracy: 0.9737 - 53s/epoch - 12ms/step\n",
            "Epoch 6/7\n",
            "4488/4488 - 58s - loss: 0.0273 - accuracy: 0.8051 - val_loss: 0.0545 - val_accuracy: 0.8904 - 58s/epoch - 13ms/step\n",
            "Epoch 7/7\n",
            "4488/4488 - 48s - loss: 0.0238 - accuracy: 0.6700 - val_loss: 0.0626 - val_accuracy: 0.5033 - 48s/epoch - 11ms/step\n"
          ]
        }
      ]
    },
    {
      "cell_type": "code",
      "execution_count": 110,
      "id": "39fcb44d",
      "metadata": {
        "id": "39fcb44d"
      },
      "outputs": [],
      "source": []
    },
    {
      "cell_type": "code",
      "source": [],
      "metadata": {
        "id": "OQWdRK29xUDO"
      },
      "id": "OQWdRK29xUDO",
      "execution_count": null,
      "outputs": []
    },
    {
      "cell_type": "code",
      "source": [
        "history1.history"
      ],
      "metadata": {
        "colab": {
          "base_uri": "https://localhost:8080/"
        },
        "id": "eUmV4XAst-bj",
        "outputId": "5704d01d-befe-4e8f-cba6-da975d3320fb"
      },
      "id": "eUmV4XAst-bj",
      "execution_count": 108,
      "outputs": [
        {
          "output_type": "execute_result",
          "data": {
            "text/plain": [
              "{'loss': [0.06724943965673447,\n",
              "  0.045592132955789566,\n",
              "  0.040171679109334946,\n",
              "  0.03534392639994621,\n",
              "  0.030895035713911057,\n",
              "  0.027294564992189407,\n",
              "  0.023832356557250023],\n",
              " 'accuracy': [0.9598782658576965,\n",
              "  0.9922012686729431,\n",
              "  0.9865332245826721,\n",
              "  0.9569815993309021,\n",
              "  0.872344434261322,\n",
              "  0.8050733804702759,\n",
              "  0.6699532866477966],\n",
              " 'val_loss': [0.049017347395420074,\n",
              "  0.047517385333776474,\n",
              "  0.04735197871923447,\n",
              "  0.04902855306863785,\n",
              "  0.0523986853659153,\n",
              "  0.05448704585433006,\n",
              "  0.06257153302431107],\n",
              " 'val_accuracy': [0.9939842224121094,\n",
              "  0.993294894695282,\n",
              "  0.9931069016456604,\n",
              "  0.9931695461273193,\n",
              "  0.9737435579299927,\n",
              "  0.8903998136520386,\n",
              "  0.5033212304115295]}"
            ]
          },
          "metadata": {},
          "execution_count": 108
        }
      ]
    },
    {
      "cell_type": "code",
      "source": [
        "plt.figure(figsize=(8,5))\n",
        "pd.DataFrame(history1.history).plot()\n",
        "plt.show()"
      ],
      "metadata": {
        "colab": {
          "base_uri": "https://localhost:8080/",
          "height": 282
        },
        "id": "vwQ8NYKOt6ft",
        "outputId": "8fb956dd-6dcf-4a49-d947-39e2bb8df321"
      },
      "id": "vwQ8NYKOt6ft",
      "execution_count": 109,
      "outputs": [
        {
          "output_type": "display_data",
          "data": {
            "text/plain": [
              "<Figure size 576x360 with 0 Axes>"
            ]
          },
          "metadata": {}
        },
        {
          "output_type": "display_data",
          "data": {
            "text/plain": [
              "<Figure size 432x288 with 1 Axes>"
            ],
            "image/png": "[encoded data removed]"
          },
          "metadata": {
            "needs_background": "light"
          }
        }
      ]
    },
    {
      "cell_type": "code",
      "execution_count": 10,
      "id": "312b150d",
      "metadata": {
        "id": "312b150d"
      },
      "outputs": [],
      "source": []
    },
    {
      "cell_type": "markdown",
      "id": "92a87aa0",
      "metadata": {
        "id": "92a87aa0"
      },
      "source": []
    },
    {
      "cell_type": "code",
      "execution_count": 100,
      "id": "86690376",
      "metadata": {
        "id": "86690376"
      },
      "outputs": [],
      "source": [
        "#Step2: Adding the embedding Layer (None,200,128)\n",
        "#128 is a tunable params(Creating Word Embeddings)\n",
        "embed_size = 128\n",
        "x = Embedding(max_features, embed_size)(inp)\n",
        "\n",
        "#Step3: Defining the LSTM Layer with 60 Output\n",
        "x = LSTM(60, return_sequences=True, name='lstm_layer')(x)\n",
        "\n",
        "#Step4: Global Max Pooling Layer to convert 3D tensor into 2D\n",
        "x = GlobalMaxPooling1D()(x)\n",
        "\n",
        "#Step5: Adding a Dropout Reguralisation\n",
        "x = Dropout(0.2)(x)\n",
        "\n",
        "\n",
        "\n",
        "#Step6: Adding a Dense Layer\n",
        "x = Dense(128,activation = 'relu') (x)\n",
        "x = Dense(256,activation = 'relu') (x)\n",
        "x = Dense(128,activation = 'relu') (x)\n",
        "\n",
        "x = Dropout(0.1)(x)\n",
        "\n",
        "#Step7: Final Output Layer\n",
        "x = Dense(6, activation=\"sigmoid\")(x)\n",
        "\n",
        "\n",
        "model2=Model(inputs=inp, outputs = x)\n",
        "\n",
        "model2.compile(loss=\"binary_crossentropy\",\n",
        "              optimizer=\"adam\",\n",
        "              metrics=['accuracy'])\n",
        "\n",
        "batch_size = 32\n",
        "epochs = 10"
      ]
    },
    {
      "cell_type": "code",
      "execution_count": 101,
      "id": "0087b347",
      "metadata": {
        "id": "0087b347",
        "colab": {
          "base_uri": "https://localhost:8080/"
        },
        "outputId": "38faaa64-6edf-4351-ffe9-1ca94d54335b"
      },
      "outputs": [
        {
          "output_type": "stream",
          "name": "stdout",
          "text": [
            "Epoch 1/10\n",
            "4488/4488 [==============================] - 63s 14ms/step - loss: 0.0623 - accuracy: 0.9612 - val_loss: 0.0497 - val_accuracy: 0.9939\n",
            "Epoch 2/10\n",
            "4488/4488 [==============================] - 54s 12ms/step - loss: 0.0448 - accuracy: 0.9916 - val_loss: 0.0482 - val_accuracy: 0.9940\n",
            "Epoch 3/10\n",
            "4488/4488 [==============================] - 55s 12ms/step - loss: 0.0388 - accuracy: 0.9918 - val_loss: 0.0479 - val_accuracy: 0.9940\n",
            "Epoch 4/10\n",
            "4488/4488 [==============================] - 55s 12ms/step - loss: 0.0344 - accuracy: 0.9891 - val_loss: 0.0509 - val_accuracy: 0.9940\n",
            "Epoch 5/10\n",
            "4488/4488 [==============================] - 54s 12ms/step - loss: 0.0306 - accuracy: 0.9874 - val_loss: 0.0529 - val_accuracy: 0.9940\n",
            "Epoch 6/10\n",
            "4488/4488 [==============================] - 55s 12ms/step - loss: 0.0276 - accuracy: 0.9542 - val_loss: 0.0573 - val_accuracy: 0.9924\n",
            "Epoch 7/10\n",
            "4488/4488 [==============================] - 54s 12ms/step - loss: 0.0250 - accuracy: 0.9544 - val_loss: 0.0640 - val_accuracy: 0.9930\n",
            "Epoch 8/10\n",
            "4488/4488 [==============================] - 54s 12ms/step - loss: 0.0226 - accuracy: 0.9335 - val_loss: 0.0730 - val_accuracy: 0.9905\n",
            "Epoch 9/10\n",
            "4488/4488 [==============================] - 54s 12ms/step - loss: 0.0205 - accuracy: 0.8646 - val_loss: 0.0740 - val_accuracy: 0.9887\n",
            "Epoch 10/10\n",
            "4488/4488 [==============================] - 54s 12ms/step - loss: 0.0188 - accuracy: 0.9646 - val_loss: 0.0891 - val_accuracy: 0.9832\n"
          ]
        }
      ],
      "source": [
        "history2 = model2.fit(X_train, y, batch_size = batch_size, epochs = epochs, validation_split=0.1)\n"
      ]
    },
    {
      "cell_type": "code",
      "execution_count": 102,
      "id": "db7c66bb",
      "metadata": {
        "colab": {
          "base_uri": "https://localhost:8080/",
          "height": 282
        },
        "id": "db7c66bb",
        "outputId": "7aeeee43-03b8-4462-9bbf-2ae2366f2ca4"
      },
      "outputs": [
        {
          "output_type": "display_data",
          "data": {
            "text/plain": [
              "<Figure size 576x360 with 0 Axes>"
            ]
          },
          "metadata": {}
        },
        {
          "output_type": "display_data",
          "data": {
            "text/plain": [
              "<Figure size 432x288 with 1 Axes>"
            ],
            "image/png": "[encoded data removed]"
          },
          "metadata": {
            "needs_background": "light"
          }
        }
      ],
      "source": [
        "plt.figure(figsize=(8,5))\n",
        "pd.DataFrame(history2.history).plot()\n",
        "plt.show()"
      ]
    },
    {
      "cell_type": "code",
      "execution_count": 103,
      "id": "43ddd4eb",
      "metadata": {
        "id": "43ddd4eb"
      },
      "outputs": [],
      "source": [
        "model2.save(\"lstmmodel2.h5\")"
      ]
    },
    {
      "cell_type": "code",
      "execution_count": 107,
      "id": "35e51efe",
      "metadata": {
        "id": "35e51efe"
      },
      "outputs": [],
      "source": []
    },
    {
      "cell_type": "code",
      "source": [],
      "metadata": {
        "id": "4EZ-nNUW0Vy1"
      },
      "id": "4EZ-nNUW0Vy1",
      "execution_count": 126,
      "outputs": []
    },
    {
      "cell_type": "code",
      "source": [
        "from tensorflow.keras.layers import Conv1D, GlobalMaxPooling1D, MaxPooling1D\n",
        "\n",
        "model3 = Sequential()\n",
        "model3.add(Embedding(max_features, embed_size))\n",
        "model3.add(Dropout(0.2))\n",
        "\n",
        "\n",
        "model3.add(Conv1D(150, 3, activation = 'relu'))\n",
        "model3.add(MaxPooling1D())\n",
        "model3.add(Conv1D(150, 3, activation = 'relu'))\n",
        "model3.add(GlobalMaxPooling1D())\n",
        "model3.add(Dense(150, activation = 'relu'))\n",
        "model3.add(Dense(300, activation = 'relu'))\n",
        "model3.add(Dense(150, activation = 'relu'))\n",
        "model3.add(Dropout(0.2))\n",
        "\n",
        "model3.add(Dense(6, activation = 'sigmoid'))\n",
        "\n",
        "# Display the model structure\n",
        "model3.compile(loss=\"binary_crossentropy\",\n",
        "              optimizer=\"adam\",\n",
        "              metrics=['accuracy'])\n",
        "model3.summary()"
      ],
      "metadata": {
        "colab": {
          "base_uri": "https://localhost:8080/"
        },
        "id": "d-UUGmHq0V1u",
        "outputId": "6c0117b0-64bd-4904-a3f5-da4bc28dedb5"
      },
      "id": "d-UUGmHq0V1u",
      "execution_count": 129,
      "outputs": [
        {
          "output_type": "stream",
          "name": "stdout",
          "text": [
            "Model: \"sequential_8\"\n",
            "_________________________________________________________________\n",
            " Layer (type)                Output Shape              Param #   \n",
            "=================================================================\n",
            " embedding_10 (Embedding)    (None, None, 128)         2816000   \n",
            "                                                                 \n",
            " dropout_14 (Dropout)        (None, None, 128)         0         \n",
            "                                                                 \n",
            " conv1d_6 (Conv1D)           (None, None, 150)         57750     \n",
            "                                                                 \n",
            " max_pooling1d_3 (MaxPooling  (None, None, 150)        0         \n",
            " 1D)                                                             \n",
            "                                                                 \n",
            " conv1d_7 (Conv1D)           (None, None, 150)         67650     \n",
            "                                                                 \n",
            " global_max_pooling1d_7 (Glo  (None, 150)              0         \n",
            " balMaxPooling1D)                                                \n",
            "                                                                 \n",
            " dense_30 (Dense)            (None, 150)               22650     \n",
            "                                                                 \n",
            " dense_31 (Dense)            (None, 300)               45300     \n",
            "                                                                 \n",
            " dense_32 (Dense)            (None, 150)               45150     \n",
            "                                                                 \n",
            " dropout_15 (Dropout)        (None, 150)               0         \n",
            "                                                                 \n",
            " dense_33 (Dense)            (None, 6)                 906       \n",
            "                                                                 \n",
            "=================================================================\n",
            "Total params: 3,055,406\n",
            "Trainable params: 3,055,406\n",
            "Non-trainable params: 0\n",
            "_________________________________________________________________\n"
          ]
        }
      ]
    },
    {
      "cell_type": "code",
      "source": [
        "history3 = model3.fit(X_train, y, batch_size = 32, epochs = 10, validation_split=0.1)\n"
      ],
      "metadata": {
        "colab": {
          "base_uri": "https://localhost:8080/"
        },
        "id": "yy2UQKYo0V4z",
        "outputId": "de04b1e1-6d60-4f1c-f223-af95f4b66974"
      },
      "id": "yy2UQKYo0V4z",
      "execution_count": 130,
      "outputs": [
        {
          "output_type": "stream",
          "name": "stdout",
          "text": [
            "Epoch 1/10\n",
            "4488/4488 [==============================] - 34s 7ms/step - loss: 0.0634 - accuracy: 0.9646 - val_loss: 0.0537 - val_accuracy: 0.9940\n",
            "Epoch 2/10\n",
            "4488/4488 [==============================] - 32s 7ms/step - loss: 0.0465 - accuracy: 0.9936 - val_loss: 0.0522 - val_accuracy: 0.9940\n",
            "Epoch 3/10\n",
            "4488/4488 [==============================] - 31s 7ms/step - loss: 0.0406 - accuracy: 0.9899 - val_loss: 0.0522 - val_accuracy: 0.9939\n",
            "Epoch 4/10\n",
            "4488/4488 [==============================] - 31s 7ms/step - loss: 0.0358 - accuracy: 0.9933 - val_loss: 0.0554 - val_accuracy: 0.9940\n",
            "Epoch 5/10\n",
            "4488/4488 [==============================] - 31s 7ms/step - loss: 0.0320 - accuracy: 0.9923 - val_loss: 0.0685 - val_accuracy: 0.9927\n",
            "Epoch 6/10\n",
            "4488/4488 [==============================] - 31s 7ms/step - loss: 0.0291 - accuracy: 0.9883 - val_loss: 0.0743 - val_accuracy: 0.9939\n",
            "Epoch 7/10\n",
            "4488/4488 [==============================] - 31s 7ms/step - loss: 0.0272 - accuracy: 0.9865 - val_loss: 0.0607 - val_accuracy: 0.9913\n",
            "Epoch 8/10\n",
            "4488/4488 [==============================] - 31s 7ms/step - loss: 0.0253 - accuracy: 0.9644 - val_loss: 0.0657 - val_accuracy: 0.9930\n",
            "Epoch 9/10\n",
            "4488/4488 [==============================] - 31s 7ms/step - loss: 0.0238 - accuracy: 0.9521 - val_loss: 0.0835 - val_accuracy: 0.9320\n",
            "Epoch 10/10\n",
            "4488/4488 [==============================] - 31s 7ms/step - loss: 0.0228 - accuracy: 0.8883 - val_loss: 0.0716 - val_accuracy: 0.9920\n"
          ]
        }
      ]
    },
    {
      "cell_type": "code",
      "source": [
        "plt.figure(figsize=(8,5))\n",
        "pd.DataFrame(history3.history).plot()\n",
        "plt.show()"
      ],
      "metadata": {
        "colab": {
          "base_uri": "https://localhost:8080/",
          "height": 282
        },
        "id": "14sebbX70V7w",
        "outputId": "8ab40d17-47d2-49ec-a9c1-0f90fb210a2e"
      },
      "id": "14sebbX70V7w",
      "execution_count": 132,
      "outputs": [
        {
          "output_type": "display_data",
          "data": {
            "text/plain": [
              "<Figure size 576x360 with 0 Axes>"
            ]
          },
          "metadata": {}
        },
        {
          "output_type": "display_data",
          "data": {
            "text/plain": [
              "<Figure size 432x288 with 1 Axes>"
            ],
            "image/png": "[encoded data removed]"
          },
          "metadata": {
            "needs_background": "light"
          }
        }
      ]
    },
    {
      "cell_type": "markdown",
      "id": "90e2940b",
      "metadata": {
        "id": "90e2940b"
      },
      "source": [
        "# Lets create the same models but applying the early stopping because we can see that we are getting better accuries with these models itself only problem is the accuracy is getting dipped down and grow after while which is the signal of the overfitting of the model"
      ]
    },
    {
      "cell_type": "code",
      "source": [
        "from keras.callbacks import EarlyStopping , ModelCheckpoint\n"
      ],
      "metadata": {
        "id": "dBo5n7DpMNy3"
      },
      "id": "dBo5n7DpMNy3",
      "execution_count": 135,
      "outputs": []
    },
    {
      "cell_type": "code",
      "execution_count": 136,
      "id": "6a8bd11e",
      "metadata": {
        "id": "6a8bd11e",
        "colab": {
          "base_uri": "https://localhost:8080/"
        },
        "outputId": "a199dcb7-30c5-419d-a926-ada1d17abdeb"
      },
      "outputs": [
        {
          "output_type": "stream",
          "name": "stderr",
          "text": [
            "WARNING:tensorflow:EarlyStopping mode <built-in function min> is unknown, fallback to auto mode.\n"
          ]
        },
        {
          "output_type": "stream",
          "name": "stdout",
          "text": [
            "Epoch 1/10\n",
            "4484/4488 [============================>.] - ETA: 0s - loss: 0.0174 - accuracy: 0.9580\n",
            "Epoch 1: val_accuracy improved from -inf to 0.29929, saving model to lstm_model1.h5\n",
            "4488/4488 [==============================] - 55s 12ms/step - loss: 0.0174 - accuracy: 0.9575 - val_loss: 0.0801 - val_accuracy: 0.2993\n",
            "Epoch 2/10\n",
            "4487/4488 [============================>.] - ETA: 0s - loss: 0.0160 - accuracy: 0.8032\n",
            "Epoch 2: val_accuracy improved from 0.29929 to 0.97500, saving model to lstm_model1.h5\n",
            "4488/4488 [==============================] - 56s 12ms/step - loss: 0.0160 - accuracy: 0.8033 - val_loss: 0.0844 - val_accuracy: 0.9750\n",
            "Epoch 3/10\n",
            "4486/4488 [============================>.] - ETA: 0s - loss: 0.0148 - accuracy: 0.9021\n",
            "Epoch 3: val_accuracy improved from 0.97500 to 0.98352, saving model to lstm_model1.h5\n",
            "4488/4488 [==============================] - 55s 12ms/step - loss: 0.0148 - accuracy: 0.9022 - val_loss: 0.0960 - val_accuracy: 0.9835\n",
            "Epoch 4/10\n",
            "4486/4488 [============================>.] - ETA: 0s - loss: 0.0139 - accuracy: 0.8666\n",
            "Epoch 4: val_accuracy improved from 0.98352 to 0.98540, saving model to lstm_model1.h5\n",
            "4488/4488 [==============================] - 57s 13ms/step - loss: 0.0139 - accuracy: 0.8667 - val_loss: 0.0994 - val_accuracy: 0.9854\n",
            "Epoch 5/10\n",
            "4487/4488 [============================>.] - ETA: 0s - loss: 0.0128 - accuracy: 0.8298\n",
            "Epoch 5: val_accuracy did not improve from 0.98540\n",
            "4488/4488 [==============================] - 60s 13ms/step - loss: 0.0128 - accuracy: 0.8298 - val_loss: 0.1019 - val_accuracy: 0.9654\n",
            "Epoch 6/10\n",
            "4487/4488 [============================>.] - ETA: 0s - loss: 0.0122 - accuracy: 0.9416\n",
            "Epoch 6: val_accuracy did not improve from 0.98540\n",
            "4488/4488 [==============================] - 58s 13ms/step - loss: 0.0122 - accuracy: 0.9416 - val_loss: 0.0918 - val_accuracy: 0.9794\n",
            "Epoch 6: early stopping\n"
          ]
        }
      ],
      "source": [
        ", ModelCheckpoint\n",
        "#Step2: Adding the embedding Layer (None,200,128)\n",
        "#128 is a tunable params(Creating Word Embeddings)\n",
        "embed_size = 128\n",
        "x = Embedding(max_features, embed_size)(inp)\n",
        "\n",
        "#Step3: Defining the LSTM Layer with 60 Output\n",
        "x = LSTM(60, return_sequences=True, name='lstm_layer')(x)\n",
        "\n",
        "#Step4: Global Max Pooling Layer to convert 3D tensor into 2D\n",
        "x = GlobalMaxPooling1D()(x)\n",
        "\n",
        "#Step5: Adding a Dropout Reguralisation\n",
        "x = Dropout(0.2)(x)\n",
        "\n",
        "\n",
        "\n",
        "#Step6: Adding a Dense Layer\n",
        "x = Dense(128,activation = 'relu') (x)\n",
        "x = Dense(256,activation = 'relu') (x)\n",
        "x = Dense(128,activation = 'relu') (x)\n",
        "\n",
        "x = Dropout(0.1)(x)\n",
        "\n",
        "#Step7: Final Output Layer\n",
        "x = Dense(6, activation=\"sigmoid\")(x)\n",
        "\n",
        "\n",
        "model2=Model(inputs=inp, outputs = x)\n",
        "\n",
        "model2.compile(loss=\"binary_crossentropy\",\n",
        "              optimizer=\"adam\",\n",
        "              metrics=['accuracy'])\n",
        "\n",
        "es = EarlyStopping(\n",
        "    monitor = 'val_loss',\n",
        "    patience = 5,\n",
        "    verbose = 1,\n",
        "    mode = min\n",
        ")\n",
        "\n",
        "mc = ModelCheckpoint(\n",
        "    'lstm_model1.h5',\n",
        "    monitor = 'val_accuracy',\n",
        "    verbose = 1,\n",
        "    save_best_only = True\n",
        ")\n",
        "\n",
        "\n",
        "batch_size = 32\n",
        "epochs = 10\n",
        "\n",
        "history2 = model2.fit(X_train, y, batch_size = batch_size, epochs = epochs, validation_split=0.1,callbacks = [es,mc],verbose=1)\n"
      ]
    },
    {
      "cell_type": "code",
      "execution_count": 144,
      "id": "d98e0429",
      "metadata": {
        "colab": {
          "base_uri": "https://localhost:8080/",
          "height": 298
        },
        "id": "d98e0429",
        "outputId": "7818f202-e70f-4780-d85a-c98dd972bc6b"
      },
      "outputs": [
        {
          "output_type": "display_data",
          "data": {
            "text/plain": [
              "<Figure size 576x360 with 0 Axes>"
            ]
          },
          "metadata": {}
        },
        {
          "output_type": "display_data",
          "data": {
            "text/plain": [
              "<Figure size 432x288 with 1 Axes>"
            ],
            "image/png": "[encoded data removed]"
          },
          "metadata": {
            "needs_background": "light"
          }
        }
      ],
      "source": [
        "plt.figure(figsize=(8,5))\n",
        "pd.DataFrame(history2.history).plot()\n",
        "plt.title(\"best fit dense lstm model\")\n",
        "plt.show()"
      ]
    },
    {
      "cell_type": "code",
      "source": [],
      "metadata": {
        "id": "7RX5G3WtO2SE"
      },
      "id": "7RX5G3WtO2SE",
      "execution_count": 139,
      "outputs": []
    },
    {
      "cell_type": "code",
      "execution_count": 140,
      "id": "03e5225f",
      "metadata": {
        "colab": {
          "base_uri": "https://localhost:8080/"
        },
        "id": "03e5225f",
        "outputId": "16a65c01-9666-4fea-f9d2-bc5211cb10f9"
      },
      "outputs": [
        {
          "output_type": "stream",
          "name": "stderr",
          "text": [
            "WARNING:tensorflow:EarlyStopping mode <built-in function min> is unknown, fallback to auto mode.\n"
          ]
        },
        {
          "output_type": "stream",
          "name": "stdout",
          "text": [
            "Epoch 1/10\n",
            "4485/4488 [============================>.] - ETA: 0s - loss: 0.0703 - accuracy: 0.9404\n",
            "Epoch 1: val_accuracy improved from -inf to 0.99398, saving model to lstm_model2.h5\n",
            "4488/4488 [==============================] - 82s 13ms/step - loss: 0.0703 - accuracy: 0.9404 - val_loss: 0.0496 - val_accuracy: 0.9940\n",
            "Epoch 2/10\n",
            "4484/4488 [============================>.] - ETA: 0s - loss: 0.0446 - accuracy: 0.9846\n",
            "Epoch 2: val_accuracy did not improve from 0.99398\n",
            "4488/4488 [==============================] - 55s 12ms/step - loss: 0.0446 - accuracy: 0.9846 - val_loss: 0.0466 - val_accuracy: 0.9940\n",
            "Epoch 3/10\n",
            "4486/4488 [============================>.] - ETA: 0s - loss: 0.0389 - accuracy: 0.9728\n",
            "Epoch 3: val_accuracy did not improve from 0.99398\n",
            "4488/4488 [==============================] - 54s 12ms/step - loss: 0.0389 - accuracy: 0.9728 - val_loss: 0.0472 - val_accuracy: 0.9926\n",
            "Epoch 4/10\n",
            "4484/4488 [============================>.] - ETA: 0s - loss: 0.0341 - accuracy: 0.9213\n",
            "Epoch 4: val_accuracy did not improve from 0.99398\n",
            "4488/4488 [==============================] - 54s 12ms/step - loss: 0.0341 - accuracy: 0.9214 - val_loss: 0.0483 - val_accuracy: 0.9933\n",
            "Epoch 5/10\n",
            "4486/4488 [============================>.] - ETA: 0s - loss: 0.0298 - accuracy: 0.8963\n",
            "Epoch 5: val_accuracy did not improve from 0.99398\n",
            "4488/4488 [==============================] - 57s 13ms/step - loss: 0.0298 - accuracy: 0.8962 - val_loss: 0.0507 - val_accuracy: 0.9335\n",
            "Epoch 6/10\n",
            "4488/4488 [==============================] - ETA: 0s - loss: 0.0262 - accuracy: 0.8187\n",
            "Epoch 6: val_accuracy did not improve from 0.99398\n",
            "4488/4488 [==============================] - 61s 14ms/step - loss: 0.0262 - accuracy: 0.8187 - val_loss: 0.0560 - val_accuracy: 0.6659\n",
            "Epoch 7/10\n",
            "4484/4488 [============================>.] - ETA: 0s - loss: 0.0229 - accuracy: 0.7337\n",
            "Epoch 7: val_accuracy did not improve from 0.99398\n",
            "4488/4488 [==============================] - 54s 12ms/step - loss: 0.0229 - accuracy: 0.7338 - val_loss: 0.0618 - val_accuracy: 0.9056\n",
            "Epoch 7: early stopping\n"
          ]
        }
      ],
      "source": [
        "\n",
        "#Step2: Adding the embedding Layer (None,200,128)\n",
        "#128 is a tunable params(Creating Word Embeddings)\n",
        "\n",
        "embed_size = 128\n",
        "x = Embedding(max_features, embed_size)(inp)\n",
        "\n",
        "#Step3: Defining the LSTM Layer with 60 Output\n",
        "x = LSTM(60, return_sequences=True, name='lstm_layer')(x)\n",
        "\n",
        "#Step4: Global Max Pooling Layer to convert 3D tensor into 2D\n",
        "x = GlobalMaxPooling1D()(x)\n",
        "\n",
        "#Step5: Adding a Dropout Reguralisation\n",
        "x = Dropout(0.1)(x)\n",
        "\n",
        "#Step6: Adding a Dense Layer\n",
        "x = Dense(50, activation = 'relu')(x)\n",
        "\n",
        "x = Dropout(0.1)(x)\n",
        "\n",
        "#Step7: Final Output Layer\n",
        "x = Dense(6, activation=\"sigmoid\")(x)\n",
        "\n",
        "\n",
        "model1=Model(inputs=inp, outputs = x)\n",
        "\n",
        "model1.compile(loss=\"binary_crossentropy\",\n",
        "              optimizer=\"adam\",\n",
        "              metrics=['accuracy'])\n",
        "\n",
        "\n",
        "es = EarlyStopping(\n",
        "    monitor = 'val_loss',\n",
        "    patience = 5,\n",
        "    verbose = 1,\n",
        "    mode = min\n",
        ")\n",
        "\n",
        "mc = ModelCheckpoint(\n",
        "    'lstm_model2.h5',\n",
        "    monitor = 'val_accuracy',\n",
        "    verbose = 1,\n",
        "    save_best_only = True\n",
        ")\n",
        "\n",
        "\n",
        "batch_size = 32\n",
        "epochs = 10\n",
        "\n",
        "history1 = model1.fit(X_train, y, batch_size = batch_size, epochs = epochs, validation_split=0.1,callbacks = [es,mc],verbose=1)\n"
      ]
    },
    {
      "cell_type": "code",
      "execution_count": 70,
      "id": "77d2f0cc",
      "metadata": {
        "id": "77d2f0cc"
      },
      "outputs": [],
      "source": []
    },
    {
      "cell_type": "code",
      "execution_count": 141,
      "id": "52c514e1",
      "metadata": {
        "id": "52c514e1",
        "colab": {
          "base_uri": "https://localhost:8080/"
        },
        "outputId": "4693cc2c-bb68-4c4d-985f-3ab85f3e9c4b"
      },
      "outputs": [
        {
          "output_type": "stream",
          "name": "stderr",
          "text": [
            "WARNING:tensorflow:EarlyStopping mode <built-in function min> is unknown, fallback to auto mode.\n"
          ]
        },
        {
          "output_type": "stream",
          "name": "stdout",
          "text": [
            "Epoch 1/10\n",
            "4481/4488 [============================>.] - ETA: 0s - loss: 0.0636 - accuracy: 0.9644\n",
            "Epoch 1: val_accuracy improved from -inf to 0.99398, saving model to cnn_model.h5\n",
            "4488/4488 [==============================] - 32s 7ms/step - loss: 0.0636 - accuracy: 0.9644 - val_loss: 0.0515 - val_accuracy: 0.9940\n",
            "Epoch 2/10\n",
            "4488/4488 [==============================] - ETA: 0s - loss: 0.0464 - accuracy: 0.9922\n",
            "Epoch 2: val_accuracy did not improve from 0.99398\n",
            "4488/4488 [==============================] - 31s 7ms/step - loss: 0.0464 - accuracy: 0.9922 - val_loss: 0.0504 - val_accuracy: 0.9940\n",
            "Epoch 3/10\n",
            "4485/4488 [============================>.] - ETA: 0s - loss: 0.0405 - accuracy: 0.9858\n",
            "Epoch 3: val_accuracy did not improve from 0.99398\n",
            "4488/4488 [==============================] - 30s 7ms/step - loss: 0.0405 - accuracy: 0.9858 - val_loss: 0.0518 - val_accuracy: 0.9934\n",
            "Epoch 4/10\n",
            "4484/4488 [============================>.] - ETA: 0s - loss: 0.0357 - accuracy: 0.9913\n",
            "Epoch 4: val_accuracy did not improve from 0.99398\n",
            "4488/4488 [==============================] - 30s 7ms/step - loss: 0.0357 - accuracy: 0.9913 - val_loss: 0.0537 - val_accuracy: 0.9939\n",
            "Epoch 5/10\n",
            "4487/4488 [============================>.] - ETA: 0s - loss: 0.0320 - accuracy: 0.9816\n",
            "Epoch 5: val_accuracy did not improve from 0.99398\n",
            "4488/4488 [==============================] - 30s 7ms/step - loss: 0.0320 - accuracy: 0.9816 - val_loss: 0.0560 - val_accuracy: 0.9940\n",
            "Epoch 6/10\n",
            "4487/4488 [============================>.] - ETA: 0s - loss: 0.0292 - accuracy: 0.9776\n",
            "Epoch 6: val_accuracy did not improve from 0.99398\n",
            "4488/4488 [==============================] - 30s 7ms/step - loss: 0.0292 - accuracy: 0.9776 - val_loss: 0.0598 - val_accuracy: 0.9939\n",
            "Epoch 7/10\n",
            "4488/4488 [==============================] - ETA: 0s - loss: 0.0274 - accuracy: 0.9049\n",
            "Epoch 7: val_accuracy did not improve from 0.99398\n",
            "4488/4488 [==============================] - 30s 7ms/step - loss: 0.0274 - accuracy: 0.9049 - val_loss: 0.0617 - val_accuracy: 0.9931\n",
            "Epoch 7: early stopping\n"
          ]
        }
      ],
      "source": [
        "model3 = Sequential()\n",
        "model3.add(Embedding(max_features, embed_size))\n",
        "model3.add(Dropout(0.2))\n",
        "\n",
        "\n",
        "model3.add(Conv1D(150, 3, activation = 'relu'))\n",
        "model3.add(MaxPooling1D())\n",
        "model3.add(Conv1D(150, 3, activation = 'relu'))\n",
        "model3.add(GlobalMaxPooling1D())\n",
        "model3.add(Dense(150, activation = 'relu'))\n",
        "model3.add(Dense(300, activation = 'relu'))\n",
        "model3.add(Dense(150, activation = 'relu'))\n",
        "model3.add(Dropout(0.2))\n",
        "\n",
        "model3.add(Dense(6, activation = 'sigmoid'))\n",
        "\n",
        "# Display the model structure\n",
        "model3.compile(loss=\"binary_crossentropy\",\n",
        "              optimizer=\"adam\",\n",
        "              metrics=['accuracy'])\n",
        "es = EarlyStopping(\n",
        "    monitor = 'val_loss',\n",
        "    patience = 5,\n",
        "    verbose = 1,\n",
        "    mode = min\n",
        ")\n",
        "\n",
        "mc = ModelCheckpoint(\n",
        "    'cnn_model.h5',\n",
        "    monitor = 'val_accuracy',\n",
        "    verbose = 1,\n",
        "    save_best_only = True\n",
        ")\n",
        "\n",
        "\n",
        "batch_size = 32\n",
        "epochs = 10\n",
        "\n",
        "history3 = model3.fit(X_train, y, batch_size = batch_size, epochs = epochs, validation_split=0.1,callbacks = [es,mc],verbose=1)\n"
      ]
    },
    {
      "cell_type": "code",
      "source": [
        "plt.figure(figsize=(8,5))\n",
        "pd.DataFrame(history1.history).plot()\n",
        "plt.title(\"best fit simple lstm\")\n",
        "plt.show()"
      ],
      "metadata": {
        "colab": {
          "base_uri": "https://localhost:8080/",
          "height": 298
        },
        "id": "wlDh4anepKVl",
        "outputId": "887462c2-7659-4527-eb31-e794911f8934"
      },
      "id": "wlDh4anepKVl",
      "execution_count": 142,
      "outputs": [
        {
          "output_type": "display_data",
          "data": {
            "text/plain": [
              "<Figure size 576x360 with 0 Axes>"
            ]
          },
          "metadata": {}
        },
        {
          "output_type": "display_data",
          "data": {
            "text/plain": [
              "<Figure size 432x288 with 1 Axes>"
            ],
            "image/png": "[encoded data removed]"
          },
          "metadata": {
            "needs_background": "light"
          }
        }
      ]
    },
    {
      "cell_type": "code",
      "source": [
        "plt.figure(figsize=(8,5))\n",
        "pd.DataFrame(history3.history).plot()\n",
        "plt.title(\"best fit cnn model\")\n",
        "plt.show()"
      ],
      "metadata": {
        "colab": {
          "base_uri": "https://localhost:8080/",
          "height": 298
        },
        "id": "XmMr_YE4pKYC",
        "outputId": "ce8180b9-f530-4955-cb84-88c6a3180451"
      },
      "id": "XmMr_YE4pKYC",
      "execution_count": 143,
      "outputs": [
        {
          "output_type": "display_data",
          "data": {
            "text/plain": [
              "<Figure size 576x360 with 0 Axes>"
            ]
          },
          "metadata": {}
        },
        {
          "output_type": "display_data",
          "data": {
            "text/plain": [
              "<Figure size 432x288 with 1 Axes>"
            ],
            "image/png": "[encoded data removed]"
          },
          "metadata": {
            "needs_background": "light"
          }
        }
      ]
    },
    {
      "cell_type": "code",
      "source": [],
      "metadata": {
        "id": "fQ0sLGqQpKbf"
      },
      "id": "fQ0sLGqQpKbf",
      "execution_count": 156,
      "outputs": []
    },
    {
      "cell_type": "code",
      "source": [],
      "metadata": {
        "id": "3-lU9jskTcZo"
      },
      "id": "3-lU9jskTcZo",
      "execution_count": 156,
      "outputs": []
    },
    {
      "cell_type": "code",
      "source": [],
      "metadata": {
        "id": "7UHwDBzvVp31"
      },
      "id": "7UHwDBzvVp31",
      "execution_count": null,
      "outputs": []
    },
    {
      "cell_type": "markdown",
      "id": "19844bc0",
      "metadata": {
        "id": "19844bc0"
      },
      "source": [
        "# The best model among all three is cnn model so we will take the cnn model as the final model for this project."
      ]
    },
    {
      "cell_type": "code",
      "execution_count": 156,
      "id": "241cb80e",
      "metadata": {
        "id": "241cb80e"
      },
      "outputs": [],
      "source": [
        "max_features = 22000\n",
        "tokenizer = Tokenizer(num_words=max_features)\n",
        "train = tokenizer.fit_on_texts(list(list_sequences_train))\n",
        "#Tokenizing and Indexing the comments\n",
        "list_tokenized_train = tokenizer.texts_to_sequences(list_sequences_train)\n",
        "list_tokenized_test = tokenizer.texts_to_sequences(list_sequences_test)\n",
        "\n",
        "#Defining the train and test sequences\n",
        "#200 is the maximum length of the inut stream. Samll sentence =0, long sentences will be trimmed\n",
        "maxlen = 200\n",
        "X_train = pad_sequences(list_tokenized_train, maxlen = maxlen)\n",
        "X_test = pad_sequences(list_tokenized_test, maxlen = maxlen)"
      ]
    },
    {
      "cell_type": "code",
      "source": [],
      "metadata": {
        "id": "5ZJmLz07S6Kf"
      },
      "id": "5ZJmLz07S6Kf",
      "execution_count": 156,
      "outputs": []
    },
    {
      "cell_type": "code",
      "source": [],
      "metadata": {
        "id": "oGEwQL-XS6ON"
      },
      "id": "oGEwQL-XS6ON",
      "execution_count": null,
      "outputs": []
    },
    {
      "cell_type": "markdown",
      "source": [],
      "metadata": {
        "id": "5xLEihMCKf8K"
      },
      "id": "5xLEihMCKf8K"
    },
    {
      "cell_type": "markdown",
      "id": "702243b3",
      "metadata": {
        "id": "702243b3"
      },
      "source": [
        "# Test and Gardio app creation"
      ]
    },
    {
      "cell_type": "code",
      "execution_count": null,
      "id": "d52c9ea4",
      "metadata": {
        "id": "d52c9ea4"
      },
      "outputs": [],
      "source": []
    },
    {
      "cell_type": "code",
      "execution_count": 158,
      "id": "de6d1c7c",
      "metadata": {
        "colab": {
          "base_uri": "https://localhost:8080/"
        },
        "id": "de6d1c7c",
        "outputId": "cb94d723-689c-454e-bde4-7f70812ccf9e"
      },
      "outputs": [
        {
          "output_type": "stream",
          "name": "stdout",
          "text": [
            "Looking in indexes: https://pypi.org/simple, https://us-python.pkg.dev/colab-wheels/public/simple/\n",
            "Collecting gradio\n",
            "  Downloading gradio-3.12.0-py3-none-any.whl (11.6 MB)\n",
            "\u001b[K     |████████████████████████████████| 11.6 MB 830 kB/s \n",
            "\u001b[?25hRequirement already satisfied: jinja2 in /usr/local/lib/python3.8/dist-packages (2.11.3)\n",
            "Collecting h11<0.13,>=0.11\n",
            "  Downloading h11-0.12.0-py3-none-any.whl (54 kB)\n",
            "\u001b[K     |████████████████████████████████| 54 kB 3.9 MB/s \n",
            "\u001b[?25hRequirement already satisfied: fsspec in /usr/local/lib/python3.8/dist-packages (from gradio) (2022.11.0)\n",
            "Requirement already satisfied: pandas in /usr/local/lib/python3.8/dist-packages (from gradio) (1.3.5)\n",
            "Requirement already satisfied: pyyaml in /usr/local/lib/python3.8/dist-packages (from gradio) (6.0)\n",
            "Collecting uvicorn\n",
            "  Downloading uvicorn-0.20.0-py3-none-any.whl (56 kB)\n",
            "\u001b[K     |████████████████████████████████| 56 kB 5.7 MB/s \n",
            "\u001b[?25hRequirement already satisfied: pillow in /usr/local/lib/python3.8/dist-packages (from gradio) (7.1.2)\n",
            "Collecting websockets>=10.0\n",
            "  Downloading websockets-10.4-cp38-cp38-manylinux_2_5_x86_64.manylinux1_x86_64.manylinux_2_17_x86_64.manylinux2014_x86_64.whl (106 kB)\n",
            "\u001b[K     |████████████████████████████████| 106 kB 80.5 MB/s \n",
            "\u001b[?25hRequirement already satisfied: numpy in /usr/local/lib/python3.8/dist-packages (from gradio) (1.21.6)\n",
            "Collecting ffmpy\n",
            "  Downloading ffmpy-0.3.0.tar.gz (4.8 kB)\n",
            "Requirement already satisfied: pydantic in /usr/local/lib/python3.8/dist-packages (from gradio) (1.10.2)\n",
            "Collecting httpx\n",
            "  Downloading httpx-0.23.1-py3-none-any.whl (84 kB)\n",
            "\u001b[K     |████████████████████████████████| 84 kB 4.7 MB/s \n",
            "\u001b[?25hRequirement already satisfied: matplotlib in /usr/local/lib/python3.8/dist-packages (from gradio) (3.2.2)\n",
            "Requirement already satisfied: requests in /usr/local/lib/python3.8/dist-packages (from gradio) (2.23.0)\n",
            "Collecting paramiko\n",
            "  Downloading paramiko-2.12.0-py2.py3-none-any.whl (213 kB)\n",
            "\u001b[K     |████████████████████████████████| 213 kB 85.2 MB/s \n",
            "\u001b[?25hCollecting fastapi\n",
            "  Downloading fastapi-0.88.0-py3-none-any.whl (55 kB)\n",
            "\u001b[K     |████████████████████████████████| 55 kB 4.6 MB/s \n",
            "\u001b[?25hCollecting python-multipart\n",
            "  Downloading python-multipart-0.0.5.tar.gz (32 kB)\n",
            "Requirement already satisfied: aiohttp in /usr/local/lib/python3.8/dist-packages (from gradio) (3.8.3)\n",
            "Collecting pydub\n",
            "  Downloading pydub-0.25.1-py2.py3-none-any.whl (32 kB)\n",
            "Collecting pycryptodome\n",
            "  Downloading pycryptodome-3.16.0-cp35-abi3-manylinux_2_5_x86_64.manylinux1_x86_64.manylinux_2_12_x86_64.manylinux2010_x86_64.whl (2.3 MB)\n",
            "\u001b[K     |████████████████████████████████| 2.3 MB 32.8 MB/s \n",
            "\u001b[?25hCollecting orjson\n",
            "  Downloading orjson-3.8.3-cp38-cp38-manylinux_2_17_x86_64.manylinux2014_x86_64.whl (278 kB)\n",
            "\u001b[K     |████████████████████████████████| 278 kB 77.3 MB/s \n",
            "\u001b[?25hCollecting markdown-it-py[linkify,plugins]\n",
            "  Downloading markdown_it_py-2.1.0-py3-none-any.whl (84 kB)\n",
            "\u001b[K     |████████████████████████████████| 84 kB 4.3 MB/s \n",
            "\u001b[?25hRequirement already satisfied: MarkupSafe>=0.23 in /usr/local/lib/python3.8/dist-packages (from jinja2) (2.0.1)\n",
            "Requirement already satisfied: attrs>=17.3.0 in /usr/local/lib/python3.8/dist-packages (from aiohttp->gradio) (22.1.0)\n",
            "Requirement already satisfied: yarl<2.0,>=1.0 in /usr/local/lib/python3.8/dist-packages (from aiohttp->gradio) (1.8.1)\n",
            "Requirement already satisfied: frozenlist>=1.1.1 in /usr/local/lib/python3.8/dist-packages (from aiohttp->gradio) (1.3.3)\n",
            "Requirement already satisfied: charset-normalizer<3.0,>=2.0 in /usr/local/lib/python3.8/dist-packages (from aiohttp->gradio) (2.1.1)\n",
            "Requirement already satisfied: async-timeout<5.0,>=4.0.0a3 in /usr/local/lib/python3.8/dist-packages (from aiohttp->gradio) (4.0.2)\n",
            "Requirement already satisfied: multidict<7.0,>=4.5 in /usr/local/lib/python3.8/dist-packages (from aiohttp->gradio) (6.0.2)\n",
            "Requirement already satisfied: aiosignal>=1.1.2 in /usr/local/lib/python3.8/dist-packages (from aiohttp->gradio) (1.3.1)\n",
            "Requirement already satisfied: idna>=2.0 in /usr/local/lib/python3.8/dist-packages (from yarl<2.0,>=1.0->aiohttp->gradio) (2.10)\n",
            "Collecting starlette==0.22.0\n",
            "  Downloading starlette-0.22.0-py3-none-any.whl (64 kB)\n",
            "\u001b[K     |████████████████████████████████| 64 kB 3.4 MB/s \n",
            "\u001b[?25hRequirement already satisfied: typing-extensions>=3.10.0 in /usr/local/lib/python3.8/dist-packages (from starlette==0.22.0->fastapi->gradio) (4.1.1)\n",
            "Collecting anyio<5,>=3.4.0\n",
            "  Downloading anyio-3.6.2-py3-none-any.whl (80 kB)\n",
            "\u001b[K     |████████████████████████████████| 80 kB 8.5 MB/s \n",
            "\u001b[?25hCollecting sniffio>=1.1\n",
            "  Downloading sniffio-1.3.0-py3-none-any.whl (10 kB)\n",
            "Collecting rfc3986[idna2008]<2,>=1.3\n",
            "  Downloading rfc3986-1.5.0-py2.py3-none-any.whl (31 kB)\n",
            "Requirement already satisfied: certifi in /usr/local/lib/python3.8/dist-packages (from httpx->gradio) (2022.9.24)\n",
            "Collecting httpcore<0.17.0,>=0.15.0\n",
            "  Downloading httpcore-0.16.2-py3-none-any.whl (68 kB)\n",
            "\u001b[K     |████████████████████████████████| 68 kB 9.5 MB/s \n",
            "\u001b[?25h  Downloading httpcore-0.16.1-py3-none-any.whl (68 kB)\n",
            "\u001b[K     |████████████████████████████████| 68 kB 7.4 MB/s \n",
            "\u001b[?25h  Downloading httpcore-0.16.0-py3-none-any.whl (68 kB)\n",
            "\u001b[K     |████████████████████████████████| 68 kB 8.5 MB/s \n",
            "\u001b[?25h  Downloading httpcore-0.15.0-py3-none-any.whl (68 kB)\n",
            "\u001b[K     |████████████████████████████████| 68 kB 8.5 MB/s \n",
            "\u001b[?25hCollecting mdurl~=0.1\n",
            "  Downloading mdurl-0.1.2-py3-none-any.whl (10.0 kB)\n",
            "Collecting mdit-py-plugins\n",
            "  Downloading mdit_py_plugins-0.3.3-py3-none-any.whl (50 kB)\n",
            "\u001b[K     |████████████████████████████████| 50 kB 9.0 MB/s \n",
            "\u001b[?25hCollecting linkify-it-py~=1.0\n",
            "  Downloading linkify_it_py-1.0.3-py3-none-any.whl (19 kB)\n",
            "Collecting uc-micro-py\n",
            "  Downloading uc_micro_py-1.0.1-py3-none-any.whl (6.2 kB)\n",
            "Requirement already satisfied: cycler>=0.10 in /usr/local/lib/python3.8/dist-packages (from matplotlib->gradio) (0.11.0)\n",
            "Requirement already satisfied: kiwisolver>=1.0.1 in /usr/local/lib/python3.8/dist-packages (from matplotlib->gradio) (1.4.4)\n",
            "Requirement already satisfied: python-dateutil>=2.1 in /usr/local/lib/python3.8/dist-packages (from matplotlib->gradio) (2.8.2)\n",
            "Requirement already satisfied: pyparsing!=2.0.4,!=2.1.2,!=2.1.6,>=2.0.1 in /usr/local/lib/python3.8/dist-packages (from matplotlib->gradio) (3.0.9)\n",
            "Requirement already satisfied: six>=1.5 in /usr/local/lib/python3.8/dist-packages (from python-dateutil>=2.1->matplotlib->gradio) (1.15.0)\n",
            "Requirement already satisfied: pytz>=2017.3 in /usr/local/lib/python3.8/dist-packages (from pandas->gradio) (2022.6)\n",
            "Collecting bcrypt>=3.1.3\n",
            "  Downloading bcrypt-4.0.1-cp36-abi3-manylinux_2_24_x86_64.whl (593 kB)\n",
            "\u001b[K     |████████████████████████████████| 593 kB 82.2 MB/s \n",
            "\u001b[?25hCollecting pynacl>=1.0.1\n",
            "  Downloading PyNaCl-1.5.0-cp36-abi3-manylinux_2_17_x86_64.manylinux2014_x86_64.manylinux_2_24_x86_64.whl (856 kB)\n",
            "\u001b[K     |████████████████████████████████| 856 kB 54.4 MB/s \n",
            "\u001b[?25hCollecting cryptography>=2.5\n",
            "  Downloading cryptography-38.0.4-cp36-abi3-manylinux_2_24_x86_64.whl (4.0 MB)\n",
            "\u001b[K     |████████████████████████████████| 4.0 MB 51.1 MB/s \n",
            "\u001b[?25hRequirement already satisfied: cffi>=1.12 in /usr/local/lib/python3.8/dist-packages (from cryptography>=2.5->paramiko->gradio) (1.15.1)\n",
            "Requirement already satisfied: pycparser in /usr/local/lib/python3.8/dist-packages (from cffi>=1.12->cryptography>=2.5->paramiko->gradio) (2.21)\n",
            "Requirement already satisfied: chardet<4,>=3.0.2 in /usr/local/lib/python3.8/dist-packages (from requests->gradio) (3.0.4)\n",
            "Requirement already satisfied: urllib3!=1.25.0,!=1.25.1,<1.26,>=1.21.1 in /usr/local/lib/python3.8/dist-packages (from requests->gradio) (1.24.3)\n",
            "Requirement already satisfied: click>=7.0 in /usr/local/lib/python3.8/dist-packages (from uvicorn->gradio) (7.1.2)\n",
            "Building wheels for collected packages: ffmpy, python-multipart\n",
            "  Building wheel for ffmpy (setup.py) ... \u001b[?25l\u001b[?25hdone\n",
            "  Created wheel for ffmpy: filename=ffmpy-0.3.0-py3-none-any.whl size=4711 sha256=1d8e83cc0c73ac4c0da6cdf66015bcde3428ee2a15228c5808f9c319646c06ed\n",
            "  Stored in directory: /root/.cache/pip/wheels/ff/5b/59/913b443e7369dc04b61f607a746b6f7d83fb65e2e19fcc958d\n",
            "  Building wheel for python-multipart (setup.py) ... \u001b[?25l\u001b[?25hdone\n",
            "  Created wheel for python-multipart: filename=python_multipart-0.0.5-py3-none-any.whl size=31678 sha256=1956c385be926aa8f48817ad5173b4e1bd733e92e9a41fcc17fbf40efc3711b3\n",
            "  Stored in directory: /root/.cache/pip/wheels/9e/fc/1c/cf980e6413d3ee8e70cd8f39e2366b0f487e3e221aeb452eb0\n",
            "Successfully built ffmpy python-multipart\n",
            "Installing collected packages: sniffio, mdurl, uc-micro-py, rfc3986, markdown-it-py, h11, anyio, starlette, pynacl, mdit-py-plugins, linkify-it-py, httpcore, cryptography, bcrypt, websockets, uvicorn, python-multipart, pydub, pycryptodome, paramiko, orjson, httpx, ffmpy, fastapi, gradio\n",
            "Successfully installed anyio-3.6.2 bcrypt-4.0.1 cryptography-38.0.4 fastapi-0.88.0 ffmpy-0.3.0 gradio-3.12.0 h11-0.12.0 httpcore-0.15.0 httpx-0.23.1 linkify-it-py-1.0.3 markdown-it-py-2.1.0 mdit-py-plugins-0.3.3 mdurl-0.1.2 orjson-3.8.3 paramiko-2.12.0 pycryptodome-3.16.0 pydub-0.25.1 pynacl-1.5.0 python-multipart-0.0.5 rfc3986-1.5.0 sniffio-1.3.0 starlette-0.22.0 uc-micro-py-1.0.1 uvicorn-0.20.0 websockets-10.4\n"
          ]
        }
      ],
      "source": [
        "!pip install gradio jinja2"
      ]
    },
    {
      "cell_type": "code",
      "execution_count": 159,
      "id": "617629bc",
      "metadata": {
        "id": "617629bc"
      },
      "outputs": [],
      "source": [
        "import gradio as gr"
      ]
    },
    {
      "cell_type": "code",
      "execution_count": 144,
      "id": "3f9093cf",
      "metadata": {
        "id": "3f9093cf"
      },
      "outputs": [],
      "source": []
    },
    {
      "cell_type": "code",
      "execution_count": 167,
      "id": "650c5abd",
      "metadata": {
        "id": "650c5abd",
        "colab": {
          "base_uri": "https://localhost:8080/",
          "height": 432
        },
        "outputId": "98d9c70c-94ec-412a-9f50-b483a6a4e469"
      },
      "outputs": [
        {
          "output_type": "error",
          "ename": "OSError",
          "evalue": "ignored",
          "traceback": [
            "\u001b[0;31m---------------------------------------------------------------------------\u001b[0m",
            "\u001b[0;31mOSError\u001b[0m                                   Traceback (most recent call last)",
            "\u001b[0;32m<ipython-input-167-cec1a9d028f6>\u001b[0m in \u001b[0;36m<module>\u001b[0;34m\u001b[0m\n\u001b[1;32m      1\u001b[0m \u001b[0;32mimport\u001b[0m \u001b[0mtensorflow\u001b[0m \u001b[0;32mas\u001b[0m \u001b[0mtf\u001b[0m\u001b[0;34m\u001b[0m\u001b[0;34m\u001b[0m\u001b[0m\n\u001b[0;32m----> 2\u001b[0;31m \u001b[0mmodel\u001b[0m \u001b[0;34m=\u001b[0m \u001b[0mtf\u001b[0m\u001b[0;34m.\u001b[0m\u001b[0mkeras\u001b[0m\u001b[0;34m.\u001b[0m\u001b[0mmodels\u001b[0m\u001b[0;34m.\u001b[0m\u001b[0mload_model\u001b[0m\u001b[0;34m(\u001b[0m\u001b[0;34m'toxic_comment_classification.h5'\u001b[0m\u001b[0;34m)\u001b[0m\u001b[0;34m\u001b[0m\u001b[0;34m\u001b[0m\u001b[0m\n\u001b[0m",
            "\u001b[0;32m/usr/local/lib/python3.8/dist-packages/keras/utils/traceback_utils.py\u001b[0m in \u001b[0;36merror_handler\u001b[0;34m(*args, **kwargs)\u001b[0m\n\u001b[1;32m     65\u001b[0m     \u001b[0;32mexcept\u001b[0m \u001b[0mException\u001b[0m \u001b[0;32mas\u001b[0m \u001b[0me\u001b[0m\u001b[0;34m:\u001b[0m  \u001b[0;31m# pylint: disable=broad-except\u001b[0m\u001b[0;34m\u001b[0m\u001b[0;34m\u001b[0m\u001b[0m\n\u001b[1;32m     66\u001b[0m       \u001b[0mfiltered_tb\u001b[0m \u001b[0;34m=\u001b[0m \u001b[0m_process_traceback_frames\u001b[0m\u001b[0;34m(\u001b[0m\u001b[0me\u001b[0m\u001b[0;34m.\u001b[0m\u001b[0m__traceback__\u001b[0m\u001b[0;34m)\u001b[0m\u001b[0;34m\u001b[0m\u001b[0;34m\u001b[0m\u001b[0m\n\u001b[0;32m---> 67\u001b[0;31m       \u001b[0;32mraise\u001b[0m \u001b[0me\u001b[0m\u001b[0;34m.\u001b[0m\u001b[0mwith_traceback\u001b[0m\u001b[0;34m(\u001b[0m\u001b[0mfiltered_tb\u001b[0m\u001b[0;34m)\u001b[0m \u001b[0;32mfrom\u001b[0m \u001b[0;32mNone\u001b[0m\u001b[0;34m\u001b[0m\u001b[0;34m\u001b[0m\u001b[0m\n\u001b[0m\u001b[1;32m     68\u001b[0m     \u001b[0;32mfinally\u001b[0m\u001b[0;34m:\u001b[0m\u001b[0;34m\u001b[0m\u001b[0;34m\u001b[0m\u001b[0m\n\u001b[1;32m     69\u001b[0m       \u001b[0;32mdel\u001b[0m \u001b[0mfiltered_tb\u001b[0m\u001b[0;34m\u001b[0m\u001b[0;34m\u001b[0m\u001b[0m\n",
            "\u001b[0;32m/usr/local/lib/python3.8/dist-packages/h5py/_hl/files.py\u001b[0m in \u001b[0;36m__init__\u001b[0;34m(self, name, mode, driver, libver, userblock_size, swmr, rdcc_nslots, rdcc_nbytes, rdcc_w0, track_order, fs_strategy, fs_persist, fs_threshold, **kwds)\u001b[0m\n\u001b[1;32m    422\u001b[0m             \u001b[0;32mwith\u001b[0m \u001b[0mphil\u001b[0m\u001b[0;34m:\u001b[0m\u001b[0;34m\u001b[0m\u001b[0;34m\u001b[0m\u001b[0m\n\u001b[1;32m    423\u001b[0m                 \u001b[0mfapl\u001b[0m \u001b[0;34m=\u001b[0m \u001b[0mmake_fapl\u001b[0m\u001b[0;34m(\u001b[0m\u001b[0mdriver\u001b[0m\u001b[0;34m,\u001b[0m \u001b[0mlibver\u001b[0m\u001b[0;34m,\u001b[0m \u001b[0mrdcc_nslots\u001b[0m\u001b[0;34m,\u001b[0m \u001b[0mrdcc_nbytes\u001b[0m\u001b[0;34m,\u001b[0m \u001b[0mrdcc_w0\u001b[0m\u001b[0;34m,\u001b[0m \u001b[0;34m**\u001b[0m\u001b[0mkwds\u001b[0m\u001b[0;34m)\u001b[0m\u001b[0;34m\u001b[0m\u001b[0;34m\u001b[0m\u001b[0m\n\u001b[0;32m--> 424\u001b[0;31m                 fid = make_fid(name, mode, userblock_size,\n\u001b[0m\u001b[1;32m    425\u001b[0m                                fapl, fcpl=make_fcpl(track_order=track_order, fs_strategy=fs_strategy,\n\u001b[1;32m    426\u001b[0m                                fs_persist=fs_persist, fs_threshold=fs_threshold),\n",
            "\u001b[0;32m/usr/local/lib/python3.8/dist-packages/h5py/_hl/files.py\u001b[0m in \u001b[0;36mmake_fid\u001b[0;34m(name, mode, userblock_size, fapl, fcpl, swmr)\u001b[0m\n\u001b[1;32m    188\u001b[0m         \u001b[0;32mif\u001b[0m \u001b[0mswmr\u001b[0m \u001b[0;32mand\u001b[0m \u001b[0mswmr_support\u001b[0m\u001b[0;34m:\u001b[0m\u001b[0;34m\u001b[0m\u001b[0;34m\u001b[0m\u001b[0m\n\u001b[1;32m    189\u001b[0m             \u001b[0mflags\u001b[0m \u001b[0;34m|=\u001b[0m \u001b[0mh5f\u001b[0m\u001b[0;34m.\u001b[0m\u001b[0mACC_SWMR_READ\u001b[0m\u001b[0;34m\u001b[0m\u001b[0;34m\u001b[0m\u001b[0m\n\u001b[0;32m--> 190\u001b[0;31m         \u001b[0mfid\u001b[0m \u001b[0;34m=\u001b[0m \u001b[0mh5f\u001b[0m\u001b[0;34m.\u001b[0m\u001b[0mopen\u001b[0m\u001b[0;34m(\u001b[0m\u001b[0mname\u001b[0m\u001b[0;34m,\u001b[0m \u001b[0mflags\u001b[0m\u001b[0;34m,\u001b[0m \u001b[0mfapl\u001b[0m\u001b[0;34m=\u001b[0m\u001b[0mfapl\u001b[0m\u001b[0;34m)\u001b[0m\u001b[0;34m\u001b[0m\u001b[0;34m\u001b[0m\u001b[0m\n\u001b[0m\u001b[1;32m    191\u001b[0m     \u001b[0;32melif\u001b[0m \u001b[0mmode\u001b[0m \u001b[0;34m==\u001b[0m \u001b[0;34m'r+'\u001b[0m\u001b[0;34m:\u001b[0m\u001b[0;34m\u001b[0m\u001b[0;34m\u001b[0m\u001b[0m\n\u001b[1;32m    192\u001b[0m         \u001b[0mfid\u001b[0m \u001b[0;34m=\u001b[0m \u001b[0mh5f\u001b[0m\u001b[0;34m.\u001b[0m\u001b[0mopen\u001b[0m\u001b[0;34m(\u001b[0m\u001b[0mname\u001b[0m\u001b[0;34m,\u001b[0m \u001b[0mh5f\u001b[0m\u001b[0;34m.\u001b[0m\u001b[0mACC_RDWR\u001b[0m\u001b[0;34m,\u001b[0m \u001b[0mfapl\u001b[0m\u001b[0;34m=\u001b[0m\u001b[0mfapl\u001b[0m\u001b[0;34m)\u001b[0m\u001b[0;34m\u001b[0m\u001b[0;34m\u001b[0m\u001b[0m\n",
            "\u001b[0;32mh5py/_objects.pyx\u001b[0m in \u001b[0;36mh5py._objects.with_phil.wrapper\u001b[0;34m()\u001b[0m\n",
            "\u001b[0;32mh5py/_objects.pyx\u001b[0m in \u001b[0;36mh5py._objects.with_phil.wrapper\u001b[0;34m()\u001b[0m\n",
            "\u001b[0;32mh5py/h5f.pyx\u001b[0m in \u001b[0;36mh5py.h5f.open\u001b[0;34m()\u001b[0m\n",
            "\u001b[0;31mOSError\u001b[0m: Unable to open file (truncated file: eof = 28311552, sblock->base_addr = 0, stored_eof = 77971544)"
          ]
        }
      ],
      "source": [
        "import tensorflow as tf\n",
        "model = tf.keras.models.load_model('toxic_comment_classification.h5')"
      ]
    },
    {
      "cell_type": "code",
      "source": [
        "model = tf.keras.models.load_model('toxic_comment_classification.h5')"
      ],
      "metadata": {
        "id": "95F2CNjdb4yK"
      },
      "id": "95F2CNjdb4yK",
      "execution_count": 173,
      "outputs": []
    },
    {
      "cell_type": "code",
      "execution_count": 174,
      "id": "a982ced6",
      "metadata": {
        "id": "a982ced6"
      },
      "outputs": [],
      "source": [
        "input_str = vectorizer('bitch')"
      ]
    },
    {
      "cell_type": "code",
      "execution_count": 175,
      "id": "49674e77",
      "metadata": {
        "colab": {
          "base_uri": "https://localhost:8080/"
        },
        "id": "49674e77",
        "outputId": "ab18b739-e2ee-45ba-ae7b-7e89020c1d94"
      },
      "outputs": [
        {
          "output_type": "stream",
          "name": "stdout",
          "text": [
            "1/1 [==============================] - 1s 663ms/step\n"
          ]
        }
      ],
      "source": [
        "res = model.predict(np.expand_dims(input_str,0))"
      ]
    },
    {
      "cell_type": "code",
      "execution_count": 176,
      "id": "7546888a",
      "metadata": {
        "colab": {
          "base_uri": "https://localhost:8080/"
        },
        "id": "7546888a",
        "outputId": "00aaaf34-4cd8-4a4c-b452-b9cccd76dd80"
      },
      "outputs": [
        {
          "output_type": "execute_result",
          "data": {
            "text/plain": [
              "array([[5.7944655e-04, 2.1199267e-10, 2.4707344e-06, 1.0530927e-07,\n",
              "        3.2781340e-06, 4.6429528e-07]], dtype=float32)"
            ]
          },
          "metadata": {},
          "execution_count": 176
        }
      ],
      "source": [
        "res"
      ]
    },
    {
      "cell_type": "code",
      "execution_count": 168,
      "id": "8edc8b14",
      "metadata": {
        "id": "8edc8b14"
      },
      "outputs": [],
      "source": [
        "input_text = vectorizer(\"You freaking suck!\")"
      ]
    },
    {
      "cell_type": "code",
      "execution_count": 164,
      "id": "8366ba06",
      "metadata": {
        "id": "8366ba06"
      },
      "outputs": [],
      "source": [
        "def score_comment(comment):\n",
        "    vectorized_comment = vectorizer([comment])\n",
        "    results = model.predict(vectorized_comment)\n",
        "    \n",
        "    text = ''\n",
        "    for idx,col in enumerate(df.columns[2:]):\n",
        "        text +='{}:{}\\n'.format(col,results[0][idx]>0.5)\n",
        "    return text"
      ]
    },
    {
      "cell_type": "code",
      "source": [
        "(model.predict(np.expand_dims(input_text,0 )) >0.5).astype(int)"
      ],
      "metadata": {
        "colab": {
          "base_uri": "https://localhost:8080/"
        },
        "id": "oajbBIEnbkBa",
        "outputId": "4f976684-e6a7-451f-c692-b02d65beb036"
      },
      "id": "oajbBIEnbkBa",
      "execution_count": 177,
      "outputs": [
        {
          "output_type": "stream",
          "name": "stdout",
          "text": [
            "1/1 [==============================] - 0s 61ms/step\n"
          ]
        },
        {
          "output_type": "execute_result",
          "data": {
            "text/plain": [
              "array([[0, 0, 0, 0, 0, 0]])"
            ]
          },
          "metadata": {},
          "execution_count": 177
        }
      ]
    },
    {
      "cell_type": "code",
      "execution_count": 165,
      "id": "b1507846",
      "metadata": {
        "id": "b1507846",
        "colab": {
          "base_uri": "https://localhost:8080/"
        },
        "outputId": "aaa6e0fc-7829-48f2-83ef-286dbca0836a"
      },
      "outputs": [
        {
          "output_type": "stream",
          "name": "stderr",
          "text": [
            "/usr/local/lib/python3.8/dist-packages/gradio/inputs.py:26: UserWarning: Usage of gradio.inputs is deprecated, and will not be supported in the future, please import your component from gradio.components\n",
            "  warnings.warn(\n",
            "/usr/local/lib/python3.8/dist-packages/gradio/deprecation.py:40: UserWarning: `optional` parameter is deprecated, and it has no effect\n",
            "  warnings.warn(value)\n",
            "/usr/local/lib/python3.8/dist-packages/gradio/deprecation.py:40: UserWarning: `numeric` parameter is deprecated, and it has no effect\n",
            "  warnings.warn(value)\n"
          ]
        }
      ],
      "source": [
        "interface = gr.Interface(fn = score_comment,\n",
        "                        inputs = gr.inputs.Textbox(lines=2,placeholder = 'comment to score'),outputs = 'text')"
      ]
    },
    {
      "cell_type": "code",
      "execution_count": 166,
      "id": "cfa317ff",
      "metadata": {
        "colab": {
          "base_uri": "https://localhost:8080/",
          "height": 591
        },
        "id": "cfa317ff",
        "outputId": "0abf53d5-771a-429e-ef84-dda6606fb270"
      },
      "outputs": [
        {
          "output_type": "stream",
          "name": "stdout",
          "text": [
            "Colab notebook detected. To show errors in colab notebook, set `debug=True` in `launch()`\n",
            "Running on public URL: https://709c88e379e16417.gradio.app\n",
            "\n",
            "This share link expires in 72 hours. For free permanent hosting and GPU upgrades (NEW!), check out Spaces: https://huggingface.co/spaces\n"
          ]
        },
        {
          "output_type": "display_data",
          "data": {
            "text/plain": [
              "<IPython.core.display.HTML object>"
            ],
            "text/html": [
              "<div><iframe src=\"https://709c88e379e16417.gradio.app\" width=\"100%\" height=\"500\" allow=\"autoplay; camera; microphone; clipboard-read; clipboard-write;\" frameborder=\"0\" allowfullscreen></iframe></div>"
            ]
          },
          "metadata": {}
        },
        {
          "output_type": "execute_result",
          "data": {
            "text/plain": []
          },
          "metadata": {},
          "execution_count": 166
        }
      ],
      "source": [
        "interface.launch(share=True)"
      ]
    },
    {
      "cell_type": "code",
      "execution_count": null,
      "id": "b5cd1734",
      "metadata": {
        "id": "b5cd1734"
      },
      "outputs": [],
      "source": []
    },
    {
      "cell_type": "code",
      "execution_count": null,
      "id": "91e4c253",
      "metadata": {
        "id": "91e4c253"
      },
      "outputs": [],
      "source": []
    },
    {
      "cell_type": "markdown",
      "id": "908cb3c4",
      "metadata": {
        "id": "908cb3c4"
      },
      "source": []
    },
    {
      "cell_type": "code",
      "execution_count": 1,
      "id": "78895272",
      "metadata": {
        "id": "78895272"
      },
      "outputs": [],
      "source": []
    },
    {
      "cell_type": "code",
      "execution_count": 1,
      "id": "b0c7d0cf",
      "metadata": {
        "id": "b0c7d0cf"
      },
      "outputs": [],
      "source": []
    },
    {
      "cell_type": "code",
      "execution_count": 1,
      "id": "cef2f9ab",
      "metadata": {
        "id": "cef2f9ab"
      },
      "outputs": [],
      "source": []
    },
    {
      "cell_type": "code",
      "execution_count": null,
      "id": "c27cd66f",
      "metadata": {
        "id": "c27cd66f"
      },
      "outputs": [],
      "source": []
    },
    {
      "cell_type": "code",
      "execution_count": null,
      "id": "41953018",
      "metadata": {
        "id": "41953018"
      },
      "outputs": [],
      "source": []
    },
    {
      "cell_type": "code",
      "execution_count": null,
      "id": "f65e4651",
      "metadata": {
        "id": "f65e4651"
      },
      "outputs": [],
      "source": []
    }
  ],
  "metadata": {
    "kernelspec": {
      "display_name": "Python 3 (ipykernel)",
      "language": "python",
      "name": "python3"
    },
    "language_info": {
      "codemirror_mode": {
        "name": "ipython",
        "version": 3
      },
      "file_extension": ".py",
      "mimetype": "text/x-python",
      "name": "python",
      "nbconvert_exporter": "python",
      "pygments_lexer": "ipython3",
      "version": "3.10.1"
    },
    "colab": {
      "provenance": [],
      "collapsed_sections": [
        "90e2940b",
        "19844bc0",
        "1eb24def"
      ]
    },
    "accelerator": "GPU"
  },
  "nbformat": 4,
  "nbformat_minor": 5
}