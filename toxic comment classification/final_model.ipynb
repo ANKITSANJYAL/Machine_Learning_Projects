{
 "cells": [
  {
   "cell_type": "markdown",
   "id": "de53f64f",
   "metadata": {
    "id": "de53f64f"
   },
   "source": [
    "# Toxic comment classification "
   ]
  },
  {
   "cell_type": "code",
   "execution_count": null,
   "id": "e8711f43",
   "metadata": {
    "id": "e8711f43"
   },
   "outputs": [],
   "source": []
  },
  {
   "cell_type": "markdown",
   "id": "8b576037",
   "metadata": {
    "id": "8b576037"
   },
   "source": [
    "## Importing the libraries and loading the data"
   ]
  },
  {
   "cell_type": "code",
   "execution_count": 79,
   "id": "13268cd5",
   "metadata": {
    "id": "13268cd5"
   },
   "outputs": [],
   "source": [
    "import os, sys\n",
    "import numpy as np\n",
    "import pandas as pd\n",
    "import matplotlib.pyplot as plt\n",
    "\n",
    "import tensorflow as tf\n",
    "from keras.models import Model,Sequential\n",
    "from keras.layers import Dense,Embedding, Input , Activation\n",
    "from keras.layers import LSTM, Bidirectional, GlobalMaxPooling1D, Dropout\n",
    "from keras.preprocessing.text import Tokenizer\n",
    "from keras_preprocessing.sequence import pad_sequences\n",
    "from keras import initializers, optimizers, layers\n",
    "from sklearn.metrics import  roc_auc_score\n",
    "from sklearn.compose import make_column_transformer\n"
   ]
  },
  {
   "cell_type": "code",
   "execution_count": 86,
   "id": "ef34e2c8",
   "metadata": {
    "id": "ef34e2c8"
   },
   "outputs": [],
   "source": [
    "#Loading the Train_test data\n",
    "train = pd.read_csv('train.csv')\n",
    "test = pd.read_csv('test.csv')"
   ]
  },
  {
   "cell_type": "code",
   "execution_count": 87,
   "id": "BqETHWgotMy9",
   "metadata": {
    "colab": {
     "base_uri": "https://localhost:8080/",
     "height": 70
    },
    "id": "BqETHWgotMy9",
    "outputId": "df4e3372-e6b8-49fc-d44c-0ea1268a7c46"
   },
   "outputs": [
    {
     "data": {
      "application/vnd.google.colaboratory.intrinsic+json": {
       "type": "string"
      },
      "text/plain": [
       "'Hey... what is it..\\n@ | talk .\\nWhat is it... an exclusive group of some WP TALIBANS...who are good at destroying, self-appointed purist who GANG UP any one who asks them questions abt their ANTI-SOCIAL and DESTRUCTIVE (non)-contribution at WP?\\n\\nAsk Sityush to clean up his behavior than issue me nonsensical warnings...'"
      ]
     },
     "execution_count": 87,
     "metadata": {},
     "output_type": "execute_result"
    }
   ],
   "source": [
    "train.iloc[12]['comment_text']"
   ]
  },
  {
   "cell_type": "code",
   "execution_count": null,
   "id": "df0406ae",
   "metadata": {},
   "outputs": [],
   "source": []
  },
  {
   "cell_type": "code",
   "execution_count": 19,
   "id": "bd464274",
   "metadata": {},
   "outputs": [
    {
     "name": "stdout",
     "output_type": "stream",
     "text": [
      "Total number of rows : 159571\n",
      "Total number of columns : 8\n",
      "Missing values in the Dataset :0\n"
     ]
    }
   ],
   "source": [
    "total_rows = data.shape[0]\n",
    "total_columns = data.shape[1]\n",
    "data.isnull().sum()\n",
    "print('Total number of rows : '+str(total_rows))\n",
    "print('Total number of columns : '+str(total_columns))\n",
    "print('Missing values in the Dataset :' +str(data.isnull().sum().sum()))"
   ]
  },
  {
   "cell_type": "code",
   "execution_count": 21,
   "id": "95509837",
   "metadata": {},
   "outputs": [
    {
     "name": "stderr",
     "output_type": "stream",
     "text": [
      "Socket exception: An existing connection was forcibly closed by the remote host (10054)\n"
     ]
    }
   ],
   "source": [
    "data['Clean'] =0 # creating the column\n",
    "data.loc[(data['severe_toxic'] ==0 ) &(data['threat']==0) & (data['identity_hate']==0)\n",
    "       & (data['insult']==0)& (data['obscene']==0) & (data['toxic']==0) ,\n",
    "       'Clean'] = 1"
   ]
  },
  {
   "cell_type": "code",
   "execution_count": 24,
   "id": "3e5c5a94",
   "metadata": {},
   "outputs": [],
   "source": [
    "# filtering the comment based on toxicity levels\n",
    "clean_comment = \" \".join(review for review in data[data['Clean']==1]['comment_text'])\n",
    "\n",
    "negative_comment = \" \".join(review for review in data[(data['severe_toxic'] ==1 ) | (data['threat']==1) |(data['identity_hate']==1)\n",
    "       | (data['insult']==1)|(data['obscene']==1) | (data['toxic']==1)]['comment_text'])\n",
    "\n",
    "severe_toxic_comment = \" \".join(review for review in data[(data['severe_toxic'] ==1 )]['comment_text'])\n",
    "\n",
    "threat_comment = \" \".join(review for review in data[(data['threat']==1)]['comment_text'])\n",
    "\n",
    "identity_hate_comment = \" \".join(review for review in data[(data['identity_hate']==1)]['comment_text'])\n",
    "\n",
    "insult_comment = \" \".join(review for review in data[(data['insult']==1)]['comment_text'])\n",
    "\n",
    "obscene_comment = \" \".join(review for review in data[(data['obscene']==1)]['comment_text'])     \n",
    "\n",
    "toxic_comment = \" \".join(review for review in data[(data['toxic']==1)]['comment_text'])"
   ]
  },
  {
   "cell_type": "code",
   "execution_count": null,
   "id": "11988bb6",
   "metadata": {},
   "outputs": [],
   "source": []
  },
  {
   "cell_type": "code",
   "execution_count": null,
   "id": "1fb6afb4",
   "metadata": {},
   "outputs": [],
   "source": []
  },
  {
   "cell_type": "code",
   "execution_count": 26,
   "id": "da3ca527",
   "metadata": {},
   "outputs": [
    {
     "data": {
      "text/html": [
       "<div>\n",
       "<style scoped>\n",
       "    .dataframe tbody tr th:only-of-type {\n",
       "        vertical-align: middle;\n",
       "    }\n",
       "\n",
       "    .dataframe tbody tr th {\n",
       "        vertical-align: top;\n",
       "    }\n",
       "\n",
       "    .dataframe thead th {\n",
       "        text-align: right;\n",
       "    }\n",
       "</style>\n",
       "<table border=\"1\" class=\"dataframe\">\n",
       "  <thead>\n",
       "    <tr style=\"text-align: right;\">\n",
       "      <th></th>\n",
       "      <th>toxic</th>\n",
       "      <th>severe_toxic</th>\n",
       "      <th>obscene</th>\n",
       "      <th>threat</th>\n",
       "      <th>insult</th>\n",
       "      <th>identity_hate</th>\n",
       "      <th>Clean</th>\n",
       "    </tr>\n",
       "  </thead>\n",
       "  <tbody>\n",
       "    <tr>\n",
       "      <th>toxic</th>\n",
       "      <td>1.000000</td>\n",
       "      <td>0.308619</td>\n",
       "      <td>0.676515</td>\n",
       "      <td>0.157058</td>\n",
       "      <td>0.647518</td>\n",
       "      <td>0.266009</td>\n",
       "      <td>-0.967748</td>\n",
       "    </tr>\n",
       "    <tr>\n",
       "      <th>severe_toxic</th>\n",
       "      <td>0.308619</td>\n",
       "      <td>1.000000</td>\n",
       "      <td>0.403014</td>\n",
       "      <td>0.123601</td>\n",
       "      <td>0.375807</td>\n",
       "      <td>0.201600</td>\n",
       "      <td>-0.298666</td>\n",
       "    </tr>\n",
       "    <tr>\n",
       "      <th>obscene</th>\n",
       "      <td>0.676515</td>\n",
       "      <td>0.403014</td>\n",
       "      <td>1.000000</td>\n",
       "      <td>0.141179</td>\n",
       "      <td>0.741272</td>\n",
       "      <td>0.286867</td>\n",
       "      <td>-0.702812</td>\n",
       "    </tr>\n",
       "    <tr>\n",
       "      <th>threat</th>\n",
       "      <td>0.157058</td>\n",
       "      <td>0.123601</td>\n",
       "      <td>0.141179</td>\n",
       "      <td>1.000000</td>\n",
       "      <td>0.150022</td>\n",
       "      <td>0.115128</td>\n",
       "      <td>-0.162925</td>\n",
       "    </tr>\n",
       "    <tr>\n",
       "      <th>insult</th>\n",
       "      <td>0.647518</td>\n",
       "      <td>0.375807</td>\n",
       "      <td>0.741272</td>\n",
       "      <td>0.150022</td>\n",
       "      <td>1.000000</td>\n",
       "      <td>0.337736</td>\n",
       "      <td>-0.677324</td>\n",
       "    </tr>\n",
       "    <tr>\n",
       "      <th>identity_hate</th>\n",
       "      <td>0.266009</td>\n",
       "      <td>0.201600</td>\n",
       "      <td>0.286867</td>\n",
       "      <td>0.115128</td>\n",
       "      <td>0.337736</td>\n",
       "      <td>1.000000</td>\n",
       "      <td>-0.280144</td>\n",
       "    </tr>\n",
       "    <tr>\n",
       "      <th>Clean</th>\n",
       "      <td>-0.967748</td>\n",
       "      <td>-0.298666</td>\n",
       "      <td>-0.702812</td>\n",
       "      <td>-0.162925</td>\n",
       "      <td>-0.677324</td>\n",
       "      <td>-0.280144</td>\n",
       "      <td>1.000000</td>\n",
       "    </tr>\n",
       "  </tbody>\n",
       "</table>\n",
       "</div>"
      ],
      "text/plain": [
       "                  toxic  severe_toxic   obscene    threat    insult  \\\n",
       "toxic          1.000000      0.308619  0.676515  0.157058  0.647518   \n",
       "severe_toxic   0.308619      1.000000  0.403014  0.123601  0.375807   \n",
       "obscene        0.676515      0.403014  1.000000  0.141179  0.741272   \n",
       "threat         0.157058      0.123601  0.141179  1.000000  0.150022   \n",
       "insult         0.647518      0.375807  0.741272  0.150022  1.000000   \n",
       "identity_hate  0.266009      0.201600  0.286867  0.115128  0.337736   \n",
       "Clean         -0.967748     -0.298666 -0.702812 -0.162925 -0.677324   \n",
       "\n",
       "               identity_hate     Clean  \n",
       "toxic               0.266009 -0.967748  \n",
       "severe_toxic        0.201600 -0.298666  \n",
       "obscene             0.286867 -0.702812  \n",
       "threat              0.115128 -0.162925  \n",
       "insult              0.337736 -0.677324  \n",
       "identity_hate       1.000000 -0.280144  \n",
       "Clean              -0.280144  1.000000  "
      ]
     },
     "execution_count": 26,
     "metadata": {},
     "output_type": "execute_result"
    }
   ],
   "source": [
    "df = data.iloc[ :,2:9]\n",
    "corrMatrix=df.corr()\n",
    "corrMatrix"
   ]
  },
  {
   "cell_type": "code",
   "execution_count": 27,
   "id": "f61de988",
   "metadata": {},
   "outputs": [
    {
     "data": {
      "text/plain": [
       "<AxesSubplot:>"
      ]
     },
     "execution_count": 27,
     "metadata": {},
     "output_type": "execute_result"
    },
    {
     "data": {
      "image/png": "[encoded data removed]",
      "text/plain": [
       "<Figure size 700x700 with 2 Axes>"
      ]
     },
     "metadata": {},
     "output_type": "display_data"
    }
   ],
   "source": [
    "plt.figure(figsize=(7, 7))\n",
    "sns.heatmap(corrMatrix, annot=True)"
   ]
  },
  {
   "cell_type": "code",
   "execution_count": 28,
   "id": "d97e909a",
   "metadata": {},
   "outputs": [
    {
     "data": {
      "text/html": [
       "<div>\n",
       "<style scoped>\n",
       "    .dataframe tbody tr th:only-of-type {\n",
       "        vertical-align: middle;\n",
       "    }\n",
       "\n",
       "    .dataframe tbody tr th {\n",
       "        vertical-align: top;\n",
       "    }\n",
       "\n",
       "    .dataframe thead th {\n",
       "        text-align: right;\n",
       "    }\n",
       "</style>\n",
       "<table border=\"1\" class=\"dataframe\">\n",
       "  <thead>\n",
       "    <tr style=\"text-align: right;\">\n",
       "      <th></th>\n",
       "      <th>toxic</th>\n",
       "      <th>severe_toxic</th>\n",
       "      <th>obscene</th>\n",
       "      <th>threat</th>\n",
       "      <th>insult</th>\n",
       "      <th>identity_hate</th>\n",
       "      <th>word_count</th>\n",
       "    </tr>\n",
       "  </thead>\n",
       "  <tbody>\n",
       "    <tr>\n",
       "      <th>0</th>\n",
       "      <td>0</td>\n",
       "      <td>0</td>\n",
       "      <td>0</td>\n",
       "      <td>0</td>\n",
       "      <td>0</td>\n",
       "      <td>0</td>\n",
       "      <td>42</td>\n",
       "    </tr>\n",
       "    <tr>\n",
       "      <th>1</th>\n",
       "      <td>0</td>\n",
       "      <td>0</td>\n",
       "      <td>0</td>\n",
       "      <td>0</td>\n",
       "      <td>0</td>\n",
       "      <td>0</td>\n",
       "      <td>18</td>\n",
       "    </tr>\n",
       "    <tr>\n",
       "      <th>2</th>\n",
       "      <td>0</td>\n",
       "      <td>0</td>\n",
       "      <td>0</td>\n",
       "      <td>0</td>\n",
       "      <td>0</td>\n",
       "      <td>0</td>\n",
       "      <td>42</td>\n",
       "    </tr>\n",
       "    <tr>\n",
       "      <th>3</th>\n",
       "      <td>0</td>\n",
       "      <td>0</td>\n",
       "      <td>0</td>\n",
       "      <td>0</td>\n",
       "      <td>0</td>\n",
       "      <td>0</td>\n",
       "      <td>112</td>\n",
       "    </tr>\n",
       "    <tr>\n",
       "      <th>4</th>\n",
       "      <td>0</td>\n",
       "      <td>0</td>\n",
       "      <td>0</td>\n",
       "      <td>0</td>\n",
       "      <td>0</td>\n",
       "      <td>0</td>\n",
       "      <td>13</td>\n",
       "    </tr>\n",
       "    <tr>\n",
       "      <th>5</th>\n",
       "      <td>0</td>\n",
       "      <td>0</td>\n",
       "      <td>0</td>\n",
       "      <td>0</td>\n",
       "      <td>0</td>\n",
       "      <td>0</td>\n",
       "      <td>12</td>\n",
       "    </tr>\n",
       "    <tr>\n",
       "      <th>6</th>\n",
       "      <td>1</td>\n",
       "      <td>1</td>\n",
       "      <td>1</td>\n",
       "      <td>0</td>\n",
       "      <td>1</td>\n",
       "      <td>0</td>\n",
       "      <td>8</td>\n",
       "    </tr>\n",
       "    <tr>\n",
       "      <th>7</th>\n",
       "      <td>0</td>\n",
       "      <td>0</td>\n",
       "      <td>0</td>\n",
       "      <td>0</td>\n",
       "      <td>0</td>\n",
       "      <td>0</td>\n",
       "      <td>21</td>\n",
       "    </tr>\n",
       "    <tr>\n",
       "      <th>8</th>\n",
       "      <td>0</td>\n",
       "      <td>0</td>\n",
       "      <td>0</td>\n",
       "      <td>0</td>\n",
       "      <td>0</td>\n",
       "      <td>0</td>\n",
       "      <td>83</td>\n",
       "    </tr>\n",
       "    <tr>\n",
       "      <th>9</th>\n",
       "      <td>0</td>\n",
       "      <td>0</td>\n",
       "      <td>0</td>\n",
       "      <td>0</td>\n",
       "      <td>0</td>\n",
       "      <td>0</td>\n",
       "      <td>12</td>\n",
       "    </tr>\n",
       "  </tbody>\n",
       "</table>\n",
       "</div>"
      ],
      "text/plain": [
       "   toxic  severe_toxic  obscene  threat  insult  identity_hate  word_count\n",
       "0      0             0        0       0       0              0          42\n",
       "1      0             0        0       0       0              0          18\n",
       "2      0             0        0       0       0              0          42\n",
       "3      0             0        0       0       0              0         112\n",
       "4      0             0        0       0       0              0          13\n",
       "5      0             0        0       0       0              0          12\n",
       "6      1             1        1       0       1              0           8\n",
       "7      0             0        0       0       0              0          21\n",
       "8      0             0        0       0       0              0          83\n",
       "9      0             0        0       0       0              0          12"
      ]
     },
     "execution_count": 28,
     "metadata": {},
     "output_type": "execute_result"
    }
   ],
   "source": [
    "#----------------------------------------------------------------------------------------------------------\n",
    "#MODELLING\n",
    "#-------------------------------------------------------------------------------------------------------------\n",
    "toxic_data = pd.read_csv(\"train.csv\")\n",
    "toxic_data.head()\n",
    "toxic_data['word_count'] = toxic_data['comment_text'].apply(lambda x: len(str(x).split(\" \")))\n",
    "toxic_data.iloc[:,2:].head(10)"
   ]
  },
  {
   "cell_type": "code",
   "execution_count": 30,
   "id": "c9596006",
   "metadata": {},
   "outputs": [
    {
     "name": "stderr",
     "output_type": "stream",
     "text": [
      "C:\\Users\\pares\\AppData\\Local\\Temp\\ipykernel_16248\\3439322775.py:8: FutureWarning: The default value of regex will change from True to False in a future version.\n",
      "  toxic_data['clean_comments'] = toxic_data['clean_comments'].str.replace('[^\\w\\s]','')\n"
     ]
    }
   ],
   "source": [
    "#-------------------------------------------\n",
    "#------TEXT MINING ------------------------\n",
    "#------------------------------------------\n",
    "#converting the text to lowercase\n",
    "toxic_data['clean_comments'] = toxic_data['comment_text'].apply(lambda x: \" \".join(x.lower() for x in x.split()))\n",
    "\n",
    "#removing punctuation\n",
    "toxic_data['clean_comments'] = toxic_data['clean_comments'].str.replace('[^\\w\\s]','')\n",
    "\n",
    "# removing the stop words\n",
    "from nltk.corpus import stopwords\n",
    "stop = stopwords.words('english')\n",
    "toxic_data['clean_comments'] = toxic_data['clean_comments'].apply(lambda x: \" \".join(x for x in x.split() if x not in stop))\n",
    "\n"
   ]
  },
  {
   "cell_type": "code",
   "execution_count": null,
   "id": "a2580fc5",
   "metadata": {},
   "outputs": [],
   "source": []
  },
  {
   "cell_type": "code",
   "execution_count": 33,
   "id": "653bbe95",
   "metadata": {},
   "outputs": [
    {
     "data": {
      "text/plain": [
       "0    explanation edits made username hardcore metal...\n",
       "1    daww match background colour im seemingly stuc...\n",
       "2    hey man im really trying edit war guy constant...\n",
       "3    cant make real suggestion improvement wondered...\n",
       "4                  sir hero chance remember page thats\n",
       "Name: clean_comments, dtype: object"
      ]
     },
     "execution_count": 33,
     "metadata": {},
     "output_type": "execute_result"
    }
   ],
   "source": [
    "# performing lemmatization\n",
    "#nltk.download('wordnet')\n",
    "# !pip install textblob\n",
    "from textblob import Word\n",
    "toxic_data['clean_comments'] = toxic_data['clean_comments'].apply(lambda x: \" \".join([Word(i).lemmatize() for i in x.split()]))\n",
    "toxic_data['clean_comments'].head()"
   ]
  },
  {
   "cell_type": "code",
   "execution_count": 34,
   "id": "7e8bd20e",
   "metadata": {},
   "outputs": [
    {
     "name": "stderr",
     "output_type": "stream",
     "text": [
      "C:\\Users\\pares\\anaconda3\\lib\\site-packages\\sklearn\\feature_extraction\\text.py:524: UserWarning: The parameter 'token_pattern' will not be used since 'tokenizer' is not None'\n",
      "  warnings.warn(\n"
     ]
    },
    {
     "data": {
      "text/plain": [
       "<159571x237932 sparse matrix of type '<class 'numpy.int64'>'\n",
       "\twith 4435344 stored elements in Compressed Sparse Row format>"
      ]
     },
     "execution_count": 34,
     "metadata": {},
     "output_type": "execute_result"
    }
   ],
   "source": [
    "#---------------------------------------------------\n",
    "#------FEATURE EXTRACTION : BOW---------------------\n",
    "#---------------------------------------------------\n",
    "from sklearn.feature_extraction.text import CountVectorizer\n",
    "from nltk.tokenize import RegexpTokenizer\n",
    "tokenCV = RegexpTokenizer(r'[a-zA-Z0-9]+')\n",
    "comment_count = CountVectorizer(lowercase=True, ngram_range=(1,1),analyzer = \"word\",tokenizer = tokenCV.tokenize)\n",
    "comment_count.fit(toxic_data['clean_comments'])\n",
    "# print(comment_counttt.vocabulary_)\n",
    "comment_count=comment_count.transform(toxic_data['clean_comments'])\n",
    "comment_count"
   ]
  },
  {
   "cell_type": "code",
   "execution_count": 35,
   "id": "a6254f82",
   "metadata": {},
   "outputs": [],
   "source": [
    "from nltk.stem.wordnet import WordNetLemmatizer\n",
    "stop_words = set(stopwords.words('english'))\n",
    "lem = WordNetLemmatizer()\n",
    "tokenCV = RegexpTokenizer(r'[a-zA-Z0-9]+')\n",
    "cv = CountVectorizer(lowercase=True,stop_words='english',ngram_range = (1,1),tokenizer = tokenCV.tokenize)"
   ]
  },
  {
   "cell_type": "code",
   "execution_count": 37,
   "id": "8ba17b79",
   "metadata": {},
   "outputs": [],
   "source": [
    "import re\n",
    "import string\n",
    "w, h = 1,len(toxic_data);\n",
    "comments_clean = [[0 for x in range(w)] for y in range(h)] \n",
    "\n",
    "w, h = 2,len(toxic_data);\n",
    "comments_sa = [[0 for x in range(w)] for y in range(h)] \n",
    "\n",
    "for i in range(0,len(toxic_data)):\n",
    "\tcomments = toxic_data.iloc[i,1]\n",
    "\tcomments = comments.lower()\n",
    "\tcomments = re.sub(r'\\d+', '', comments)\n",
    "\tcomments = comments.translate(str.maketrans(\"\",\"\", string.punctuation))\n",
    "\tcomments = comments.strip()\n",
    "\tcomments = lem.lemmatize(comments)\n",
    "\ttokens = word_tokenize(comments)\n",
    "\tcomments = [j for j in tokens if not j in stop_words]\n",
    "\tcomments_clean[i] = str(comments)\n",
    "\t\n",
    "text_counts= cv.fit_transform(comments_clean)\n"
   ]
  },
  {
   "cell_type": "code",
   "execution_count": null,
   "id": "8028053f",
   "metadata": {},
   "outputs": [],
   "source": []
  },
  {
   "cell_type": "code",
   "execution_count": null,
   "id": "d3ec3f99",
   "metadata": {},
   "outputs": [],
   "source": []
  },
  {
   "cell_type": "code",
   "execution_count": 88,
   "id": "c32a1f42",
   "metadata": {
    "id": "c32a1f42"
   },
   "outputs": [],
   "source": [
    "#Listing down the Classes\n",
    "list_classes = [\"toxic\", \"severe_toxic\", \"obscene\", \"threat\", \"insult\", \"identity_hate\"]\n",
    "\n",
    "y = train[list_classes].values"
   ]
  },
  {
   "cell_type": "code",
   "execution_count": 89,
   "id": "2ab5cb59",
   "metadata": {
    "id": "2ab5cb59"
   },
   "outputs": [],
   "source": [
    "#Train and test labels\n",
    "list_sequences_train = train[\"comment_text\"]\n",
    "list_sequences_test = test[\"comment_text\"]\n",
    "\n",
    "max_features = 22000\n",
    "tokenizer = Tokenizer(num_words=max_features)\n",
    "train = tokenizer.fit_on_texts(list(list_sequences_train))\n"
   ]
  },
  {
   "cell_type": "code",
   "execution_count": 90,
   "id": "9a895f20",
   "metadata": {
    "id": "9a895f20"
   },
   "outputs": [],
   "source": [
    "#Tokenizing and Indexing the comments\n",
    "list_tokenized_train = tokenizer.texts_to_sequences(list_sequences_train)\n",
    "list_tokenized_test = tokenizer.texts_to_sequences(list_sequences_test)\n",
    "\n",
    "#Defining the train and test sequences\n",
    "#200 is the maximum length of the inut stream. Samll sentence =0, long sentences will be trimmed\n",
    "maxlen = 200\n",
    "X_train = pad_sequences(list_tokenized_train, maxlen = maxlen)\n",
    "X_test = pad_sequences(list_tokenized_test, maxlen = maxlen)"
   ]
  },
  {
   "cell_type": "code",
   "execution_count": 91,
   "id": "9c9bb247",
   "metadata": {
    "colab": {
     "base_uri": "https://localhost:8080/",
     "height": 265
    },
    "id": "9c9bb247",
    "outputId": "4e8e9fba-ce5c-46ad-b24f-7137a89f1c4a"
   },
   "outputs": [
    {
     "data": {
      "image/png": "[encoded data removed]",
      "text/plain": [
       "<Figure size 432x288 with 1 Axes>"
      ]
     },
     "metadata": {
      "needs_background": "light"
     },
     "output_type": "display_data"
    }
   ],
   "source": [
    "totalNumWords = [len(one_comment) for one_comment in list_tokenized_train]\n",
    "\n",
    "#Visualizing the Distribution of the words\n",
    "plt.hist(totalNumWords,bins = np.arange(0,410,10))\n",
    "plt.show()\n"
   ]
  },
  {
   "cell_type": "markdown",
   "id": "h1M7Xav3KW7A",
   "metadata": {
    "id": "h1M7Xav3KW7A"
   },
   "source": [
    "# Lets create the cnn and rnn models and check their validation and training accuries"
   ]
  },
  {
   "cell_type": "code",
   "execution_count": 92,
   "id": "a142a229",
   "metadata": {
    "id": "a142a229"
   },
   "outputs": [],
   "source": [
    "#Step1: Adding the first Input Layer (None,200)\n",
    "inp = Input(shape=(maxlen, ))"
   ]
  },
  {
   "cell_type": "code",
   "execution_count": 105,
   "id": "7196a8ef",
   "metadata": {
    "id": "7196a8ef"
   },
   "outputs": [],
   "source": [
    "#Step2: Adding the embedding Layer (None,200,128)\n",
    "#128 is a tunable params(Creating Word Embeddings)\n",
    "embed_size = 128\n",
    "x = Embedding(max_features, embed_size)(inp)\n",
    "\n",
    "#Step3: Defining the LSTM Layer with 60 Output\n",
    "x = LSTM(60, return_sequences=True, name='lstm_layer')(x)\n",
    "\n",
    "#Step4: Global Max Pooling Layer to convert 3D tensor into 2D\n",
    "x = GlobalMaxPooling1D()(x)\n",
    "\n",
    "#Step5: Adding a Dropout Reguralisation\n",
    "x = Dropout(0.1)(x)\n",
    "\n",
    "#Step6: Adding a Dense Layer\n",
    "x = Dense(50, activation = 'relu')(x)\n",
    "\n",
    "x = Dropout(0.1)(x)\n",
    "\n",
    "#Step7: Final Output Layer\n",
    "x = Dense(6, activation=\"sigmoid\")(x)\n",
    "\n",
    "\n",
    "model1=Model(inputs=inp, outputs = x)\n",
    "\n",
    "model1.compile(loss=\"binary_crossentropy\",\n",
    "              optimizer=\"adam\",\n",
    "              metrics=['accuracy'])\n",
    "\n",
    "batch_size = 32\n",
    "epochs = 10"
   ]
  },
  {
   "cell_type": "code",
   "execution_count": 106,
   "id": "MVBUbsOXt7sq",
   "metadata": {
    "colab": {
     "base_uri": "https://localhost:8080/"
    },
    "id": "MVBUbsOXt7sq",
    "outputId": "2d302f62-166e-4a4c-d75e-1aff4066e76c"
   },
   "outputs": [
    {
     "name": "stdout",
     "output_type": "stream",
     "text": [
      "Model: \"model_3\"\n",
      "_________________________________________________________________\n",
      " Layer (type)                Output Shape              Param #   \n",
      "=================================================================\n",
      " input_1 (InputLayer)        [(None, 200)]             0         \n",
      "                                                                 \n",
      " embedding_7 (Embedding)     (None, 200, 128)          2816000   \n",
      "                                                                 \n",
      " lstm_layer (LSTM)           (None, 200, 60)           45360     \n",
      "                                                                 \n",
      " global_max_pooling1d_4 (Glo  (None, 60)               0         \n",
      " balMaxPooling1D)                                                \n",
      "                                                                 \n",
      " dropout_8 (Dropout)         (None, 60)                0         \n",
      "                                                                 \n",
      " dense_22 (Dense)            (None, 50)                3050      \n",
      "                                                                 \n",
      " dropout_9 (Dropout)         (None, 50)                0         \n",
      "                                                                 \n",
      " dense_23 (Dense)            (None, 6)                 306       \n",
      "                                                                 \n",
      "=================================================================\n",
      "Total params: 2,864,716\n",
      "Trainable params: 2,864,716\n",
      "Non-trainable params: 0\n",
      "_________________________________________________________________\n"
     ]
    }
   ],
   "source": [
    "model1.summary()"
   ]
  },
  {
   "cell_type": "code",
   "execution_count": 107,
   "id": "mdMKlfyBt_nh",
   "metadata": {
    "colab": {
     "base_uri": "https://localhost:8080/"
    },
    "id": "mdMKlfyBt_nh",
    "outputId": "2139a939-543c-49cb-e920-3035992261bd"
   },
   "outputs": [
    {
     "name": "stdout",
     "output_type": "stream",
     "text": [
      "Epoch 1/7\n",
      "4488/4488 - 52s - loss: 0.0672 - accuracy: 0.9599 - val_loss: 0.0490 - val_accuracy: 0.9940 - 52s/epoch - 12ms/step\n",
      "Epoch 2/7\n",
      "4488/4488 - 49s - loss: 0.0456 - accuracy: 0.9922 - val_loss: 0.0475 - val_accuracy: 0.9933 - 49s/epoch - 11ms/step\n",
      "Epoch 3/7\n",
      "4488/4488 - 48s - loss: 0.0402 - accuracy: 0.9865 - val_loss: 0.0474 - val_accuracy: 0.9931 - 48s/epoch - 11ms/step\n",
      "Epoch 4/7\n",
      "4488/4488 - 49s - loss: 0.0353 - accuracy: 0.9570 - val_loss: 0.0490 - val_accuracy: 0.9932 - 49s/epoch - 11ms/step\n",
      "Epoch 5/7\n",
      "4488/4488 - 53s - loss: 0.0309 - accuracy: 0.8723 - val_loss: 0.0524 - val_accuracy: 0.9737 - 53s/epoch - 12ms/step\n",
      "Epoch 6/7\n",
      "4488/4488 - 58s - loss: 0.0273 - accuracy: 0.8051 - val_loss: 0.0545 - val_accuracy: 0.8904 - 58s/epoch - 13ms/step\n",
      "Epoch 7/7\n",
      "4488/4488 - 48s - loss: 0.0238 - accuracy: 0.6700 - val_loss: 0.0626 - val_accuracy: 0.5033 - 48s/epoch - 11ms/step\n"
     ]
    }
   ],
   "source": [
    "history1 = model1.fit(X_train, y, batch_size = batch_size, epochs = 7, validation_split=0.1,verbose=2)"
   ]
  },
  {
   "cell_type": "code",
   "execution_count": 110,
   "id": "39fcb44d",
   "metadata": {
    "id": "39fcb44d"
   },
   "outputs": [],
   "source": []
  },
  {
   "cell_type": "code",
   "execution_count": null,
   "id": "OQWdRK29xUDO",
   "metadata": {
    "id": "OQWdRK29xUDO"
   },
   "outputs": [],
   "source": []
  },
  {
   "cell_type": "code",
   "execution_count": 108,
   "id": "eUmV4XAst-bj",
   "metadata": {
    "colab": {
     "base_uri": "https://localhost:8080/"
    },
    "id": "eUmV4XAst-bj",
    "outputId": "5704d01d-befe-4e8f-cba6-da975d3320fb"
   },
   "outputs": [
    {
     "data": {
      "text/plain": [
       "{'loss': [0.06724943965673447,\n",
       "  0.045592132955789566,\n",
       "  0.040171679109334946,\n",
       "  0.03534392639994621,\n",
       "  0.030895035713911057,\n",
       "  0.027294564992189407,\n",
       "  0.023832356557250023],\n",
       " 'accuracy': [0.9598782658576965,\n",
       "  0.9922012686729431,\n",
       "  0.9865332245826721,\n",
       "  0.9569815993309021,\n",
       "  0.872344434261322,\n",
       "  0.8050733804702759,\n",
       "  0.6699532866477966],\n",
       " 'val_loss': [0.049017347395420074,\n",
       "  0.047517385333776474,\n",
       "  0.04735197871923447,\n",
       "  0.04902855306863785,\n",
       "  0.0523986853659153,\n",
       "  0.05448704585433006,\n",
       "  0.06257153302431107],\n",
       " 'val_accuracy': [0.9939842224121094,\n",
       "  0.993294894695282,\n",
       "  0.9931069016456604,\n",
       "  0.9931695461273193,\n",
       "  0.9737435579299927,\n",
       "  0.8903998136520386,\n",
       "  0.5033212304115295]}"
      ]
     },
     "execution_count": 108,
     "metadata": {},
     "output_type": "execute_result"
    }
   ],
   "source": [
    "history1.history"
   ]
  },
  {
   "cell_type": "code",
   "execution_count": 109,
   "id": "vwQ8NYKOt6ft",
   "metadata": {
    "colab": {
     "base_uri": "https://localhost:8080/",
     "height": 282
    },
    "id": "vwQ8NYKOt6ft",
    "outputId": "8fb956dd-6dcf-4a49-d947-39e2bb8df321"
   },
   "outputs": [
    {
     "data": {
      "text/plain": [
       "<Figure size 576x360 with 0 Axes>"
      ]
     },
     "metadata": {},
     "output_type": "display_data"
    },
    {
     "data": {
      "image/png": "[encoded data removed]",
      "text/plain": [
       "<Figure size 432x288 with 1 Axes>"
      ]
     },
     "metadata": {
      "needs_background": "light"
     },
     "output_type": "display_data"
    }
   ],
   "source": [
    "plt.figure(figsize=(8,5))\n",
    "pd.DataFrame(history1.history).plot()\n",
    "plt.show()"
   ]
  },
  {
   "cell_type": "code",
   "execution_count": 10,
   "id": "312b150d",
   "metadata": {
    "id": "312b150d"
   },
   "outputs": [],
   "source": []
  },
  {
   "cell_type": "markdown",
   "id": "92a87aa0",
   "metadata": {
    "id": "92a87aa0"
   },
   "source": []
  },
  {
   "cell_type": "code",
   "execution_count": 100,
   "id": "86690376",
   "metadata": {
    "id": "86690376"
   },
   "outputs": [],
   "source": [
    "#Step2: Adding the embedding Layer (None,200,128)\n",
    "#128 is a tunable params(Creating Word Embeddings)\n",
    "embed_size = 128\n",
    "x = Embedding(max_features, embed_size)(inp)\n",
    "\n",
    "#Step3: Defining the LSTM Layer with 60 Output\n",
    "x = LSTM(60, return_sequences=True, name='lstm_layer')(x)\n",
    "\n",
    "#Step4: Global Max Pooling Layer to convert 3D tensor into 2D\n",
    "x = GlobalMaxPooling1D()(x)\n",
    "\n",
    "#Step5: Adding a Dropout Reguralisation\n",
    "x = Dropout(0.2)(x)\n",
    "\n",
    "\n",
    "\n",
    "#Step6: Adding a Dense Layer\n",
    "x = Dense(128,activation = 'relu') (x)\n",
    "x = Dense(256,activation = 'relu') (x)\n",
    "x = Dense(128,activation = 'relu') (x)\n",
    "\n",
    "x = Dropout(0.1)(x)\n",
    "\n",
    "#Step7: Final Output Layer\n",
    "x = Dense(6, activation=\"sigmoid\")(x)\n",
    "\n",
    "\n",
    "model2=Model(inputs=inp, outputs = x)\n",
    "\n",
    "model2.compile(loss=\"binary_crossentropy\",\n",
    "              optimizer=\"adam\",\n",
    "              metrics=['accuracy'])\n",
    "\n",
    "batch_size = 32\n",
    "epochs = 10"
   ]
  },
  {
   "cell_type": "code",
   "execution_count": 101,
   "id": "0087b347",
   "metadata": {
    "colab": {
     "base_uri": "https://localhost:8080/"
    },
    "id": "0087b347",
    "outputId": "38faaa64-6edf-4351-ffe9-1ca94d54335b"
   },
   "outputs": [
    {
     "name": "stdout",
     "output_type": "stream",
     "text": [
      "Epoch 1/10\n",
      "4488/4488 [==============================] - 63s 14ms/step - loss: 0.0623 - accuracy: 0.9612 - val_loss: 0.0497 - val_accuracy: 0.9939\n",
      "Epoch 2/10\n",
      "4488/4488 [==============================] - 54s 12ms/step - loss: 0.0448 - accuracy: 0.9916 - val_loss: 0.0482 - val_accuracy: 0.9940\n",
      "Epoch 3/10\n",
      "4488/4488 [==============================] - 55s 12ms/step - loss: 0.0388 - accuracy: 0.9918 - val_loss: 0.0479 - val_accuracy: 0.9940\n",
      "Epoch 4/10\n",
      "4488/4488 [==============================] - 55s 12ms/step - loss: 0.0344 - accuracy: 0.9891 - val_loss: 0.0509 - val_accuracy: 0.9940\n",
      "Epoch 5/10\n",
      "4488/4488 [==============================] - 54s 12ms/step - loss: 0.0306 - accuracy: 0.9874 - val_loss: 0.0529 - val_accuracy: 0.9940\n",
      "Epoch 6/10\n",
      "4488/4488 [==============================] - 55s 12ms/step - loss: 0.0276 - accuracy: 0.9542 - val_loss: 0.0573 - val_accuracy: 0.9924\n",
      "Epoch 7/10\n",
      "4488/4488 [==============================] - 54s 12ms/step - loss: 0.0250 - accuracy: 0.9544 - val_loss: 0.0640 - val_accuracy: 0.9930\n",
      "Epoch 8/10\n",
      "4488/4488 [==============================] - 54s 12ms/step - loss: 0.0226 - accuracy: 0.9335 - val_loss: 0.0730 - val_accuracy: 0.9905\n",
      "Epoch 9/10\n",
      "4488/4488 [==============================] - 54s 12ms/step - loss: 0.0205 - accuracy: 0.8646 - val_loss: 0.0740 - val_accuracy: 0.9887\n",
      "Epoch 10/10\n",
      "4488/4488 [==============================] - 54s 12ms/step - loss: 0.0188 - accuracy: 0.9646 - val_loss: 0.0891 - val_accuracy: 0.9832\n"
     ]
    }
   ],
   "source": [
    "history2 = model2.fit(X_train, y, batch_size = batch_size, epochs = epochs, validation_split=0.1)\n"
   ]
  },
  {
   "cell_type": "code",
   "execution_count": 102,
   "id": "db7c66bb",
   "metadata": {
    "colab": {
     "base_uri": "https://localhost:8080/",
     "height": 282
    },
    "id": "db7c66bb",
    "outputId": "7aeeee43-03b8-4462-9bbf-2ae2366f2ca4"
   },
   "outputs": [
    {
     "data": {
      "text/plain": [
       "<Figure size 576x360 with 0 Axes>"
      ]
     },
     "metadata": {},
     "output_type": "display_data"
    },
    {
     "data": {
      "image/png": "[encoded data removed]",
      "text/plain": [
       "<Figure size 432x288 with 1 Axes>"
      ]
     },
     "metadata": {
      "needs_background": "light"
     },
     "output_type": "display_data"
    }
   ],
   "source": [
    "plt.figure(figsize=(8,5))\n",
    "pd.DataFrame(history2.history).plot()\n",
    "plt.show()"
   ]
  },
  {
   "cell_type": "code",
   "execution_count": 103,
   "id": "43ddd4eb",
   "metadata": {
    "id": "43ddd4eb"
   },
   "outputs": [],
   "source": []
  },
  {
   "cell_type": "code",
   "execution_count": 107,
   "id": "35e51efe",
   "metadata": {
    "id": "35e51efe"
   },
   "outputs": [],
   "source": []
  },
  {
   "cell_type": "code",
   "execution_count": 126,
   "id": "4EZ-nNUW0Vy1",
   "metadata": {
    "id": "4EZ-nNUW0Vy1"
   },
   "outputs": [],
   "source": []
  },
  {
   "cell_type": "code",
   "execution_count": 129,
   "id": "d-UUGmHq0V1u",
   "metadata": {
    "colab": {
     "base_uri": "https://localhost:8080/"
    },
    "id": "d-UUGmHq0V1u",
    "outputId": "6c0117b0-64bd-4904-a3f5-da4bc28dedb5"
   },
   "outputs": [
    {
     "name": "stdout",
     "output_type": "stream",
     "text": [
      "Model: \"sequential_8\"\n",
      "_________________________________________________________________\n",
      " Layer (type)                Output Shape              Param #   \n",
      "=================================================================\n",
      " embedding_10 (Embedding)    (None, None, 128)         2816000   \n",
      "                                                                 \n",
      " dropout_14 (Dropout)        (None, None, 128)         0         \n",
      "                                                                 \n",
      " conv1d_6 (Conv1D)           (None, None, 150)         57750     \n",
      "                                                                 \n",
      " max_pooling1d_3 (MaxPooling  (None, None, 150)        0         \n",
      " 1D)                                                             \n",
      "                                                                 \n",
      " conv1d_7 (Conv1D)           (None, None, 150)         67650     \n",
      "                                                                 \n",
      " global_max_pooling1d_7 (Glo  (None, 150)              0         \n",
      " balMaxPooling1D)                                                \n",
      "                                                                 \n",
      " dense_30 (Dense)            (None, 150)               22650     \n",
      "                                                                 \n",
      " dense_31 (Dense)            (None, 300)               45300     \n",
      "                                                                 \n",
      " dense_32 (Dense)            (None, 150)               45150     \n",
      "                                                                 \n",
      " dropout_15 (Dropout)        (None, 150)               0         \n",
      "                                                                 \n",
      " dense_33 (Dense)            (None, 6)                 906       \n",
      "                                                                 \n",
      "=================================================================\n",
      "Total params: 3,055,406\n",
      "Trainable params: 3,055,406\n",
      "Non-trainable params: 0\n",
      "_________________________________________________________________\n"
     ]
    }
   ],
   "source": [
    "from tensorflow.keras.layers import Conv1D, GlobalMaxPooling1D, MaxPooling1D\n",
    "\n",
    "model3 = Sequential()\n",
    "model3.add(Embedding(max_features, embed_size))\n",
    "model3.add(Dropout(0.2))\n",
    "\n",
    "\n",
    "model3.add(Conv1D(150, 3, activation = 'relu'))\n",
    "model3.add(MaxPooling1D())\n",
    "model3.add(Conv1D(150, 3, activation = 'relu'))\n",
    "model3.add(GlobalMaxPooling1D())\n",
    "model3.add(Dense(150, activation = 'relu'))\n",
    "model3.add(Dense(300, activation = 'relu'))\n",
    "model3.add(Dense(150, activation = 'relu'))\n",
    "model3.add(Dropout(0.2))\n",
    "\n",
    "model3.add(Dense(6, activation = 'sigmoid'))\n",
    "\n",
    "# Display the model structure\n",
    "model3.compile(loss=\"binary_crossentropy\",\n",
    "              optimizer=\"adam\",\n",
    "              metrics=['accuracy'])\n",
    "model3.summary()"
   ]
  },
  {
   "cell_type": "code",
   "execution_count": 130,
   "id": "yy2UQKYo0V4z",
   "metadata": {
    "colab": {
     "base_uri": "https://localhost:8080/"
    },
    "id": "yy2UQKYo0V4z",
    "outputId": "de04b1e1-6d60-4f1c-f223-af95f4b66974"
   },
   "outputs": [
    {
     "name": "stdout",
     "output_type": "stream",
     "text": [
      "Epoch 1/10\n",
      "4488/4488 [==============================] - 34s 7ms/step - loss: 0.0634 - accuracy: 0.9646 - val_loss: 0.0537 - val_accuracy: 0.9940\n",
      "Epoch 2/10\n",
      "4488/4488 [==============================] - 32s 7ms/step - loss: 0.0465 - accuracy: 0.9936 - val_loss: 0.0522 - val_accuracy: 0.9940\n",
      "Epoch 3/10\n",
      "4488/4488 [==============================] - 31s 7ms/step - loss: 0.0406 - accuracy: 0.9899 - val_loss: 0.0522 - val_accuracy: 0.9939\n",
      "Epoch 4/10\n",
      "4488/4488 [==============================] - 31s 7ms/step - loss: 0.0358 - accuracy: 0.9933 - val_loss: 0.0554 - val_accuracy: 0.9940\n",
      "Epoch 5/10\n",
      "4488/4488 [==============================] - 31s 7ms/step - loss: 0.0320 - accuracy: 0.9923 - val_loss: 0.0685 - val_accuracy: 0.9927\n",
      "Epoch 6/10\n",
      "4488/4488 [==============================] - 31s 7ms/step - loss: 0.0291 - accuracy: 0.9883 - val_loss: 0.0743 - val_accuracy: 0.9939\n",
      "Epoch 7/10\n",
      "4488/4488 [==============================] - 31s 7ms/step - loss: 0.0272 - accuracy: 0.9865 - val_loss: 0.0607 - val_accuracy: 0.9913\n",
      "Epoch 8/10\n",
      "4488/4488 [==============================] - 31s 7ms/step - loss: 0.0253 - accuracy: 0.9644 - val_loss: 0.0657 - val_accuracy: 0.9930\n",
      "Epoch 9/10\n",
      "4488/4488 [==============================] - 31s 7ms/step - loss: 0.0238 - accuracy: 0.9521 - val_loss: 0.0835 - val_accuracy: 0.9320\n",
      "Epoch 10/10\n",
      "4488/4488 [==============================] - 31s 7ms/step - loss: 0.0228 - accuracy: 0.8883 - val_loss: 0.0716 - val_accuracy: 0.9920\n"
     ]
    }
   ],
   "source": [
    "history3 = model3.fit(X_train, y, batch_size = 32, epochs = 10, validation_split=0.1)\n"
   ]
  },
  {
   "cell_type": "code",
   "execution_count": 132,
   "id": "14sebbX70V7w",
   "metadata": {
    "colab": {
     "base_uri": "https://localhost:8080/",
     "height": 282
    },
    "id": "14sebbX70V7w",
    "outputId": "8ab40d17-47d2-49ec-a9c1-0f90fb210a2e"
   },
   "outputs": [
    {
     "data": {
      "text/plain": [
       "<Figure size 576x360 with 0 Axes>"
      ]
     },
     "metadata": {},
     "output_type": "display_data"
    },
    {
     "data": {
      "image/png": "[encoded data removed]",
      "text/plain": [
       "<Figure size 432x288 with 1 Axes>"
      ]
     },
     "metadata": {
      "needs_background": "light"
     },
     "output_type": "display_data"
    }
   ],
   "source": [
    "plt.figure(figsize=(8,5))\n",
    "pd.DataFrame(history3.history).plot()\n",
    "plt.show()"
   ]
  },
  {
   "cell_type": "markdown",
   "id": "90e2940b",
   "metadata": {
    "id": "90e2940b"
   },
   "source": [
    "# Lets create the same models but applying the early stopping because we can see that we are getting better accuries with these models itself only problem is the accuracy is getting dipped down and grow after while which is the signal of the overfitting of the model"
   ]
  },
  {
   "cell_type": "code",
   "execution_count": 135,
   "id": "dBo5n7DpMNy3",
   "metadata": {
    "id": "dBo5n7DpMNy3"
   },
   "outputs": [],
   "source": [
    "from keras.callbacks import EarlyStopping , ModelCheckpoint\n"
   ]
  },
  {
   "cell_type": "code",
   "execution_count": 136,
   "id": "6a8bd11e",
   "metadata": {
    "colab": {
     "base_uri": "https://localhost:8080/"
    },
    "id": "6a8bd11e",
    "outputId": "a199dcb7-30c5-419d-a926-ada1d17abdeb"
   },
   "outputs": [
    {
     "name": "stderr",
     "output_type": "stream",
     "text": [
      "WARNING:tensorflow:EarlyStopping mode <built-in function min> is unknown, fallback to auto mode.\n"
     ]
    },
    {
     "name": "stdout",
     "output_type": "stream",
     "text": [
      "Epoch 1/10\n",
      "4484/4488 [============================>.] - ETA: 0s - loss: 0.0174 - accuracy: 0.9580\n",
      "Epoch 1: val_accuracy improved from -inf to 0.29929, saving model to lstm_model1.h5\n",
      "4488/4488 [==============================] - 55s 12ms/step - loss: 0.0174 - accuracy: 0.9575 - val_loss: 0.0801 - val_accuracy: 0.2993\n",
      "Epoch 2/10\n",
      "4487/4488 [============================>.] - ETA: 0s - loss: 0.0160 - accuracy: 0.8032\n",
      "Epoch 2: val_accuracy improved from 0.29929 to 0.97500, saving model to lstm_model1.h5\n",
      "4488/4488 [==============================] - 56s 12ms/step - loss: 0.0160 - accuracy: 0.8033 - val_loss: 0.0844 - val_accuracy: 0.9750\n",
      "Epoch 3/10\n",
      "4486/4488 [============================>.] - ETA: 0s - loss: 0.0148 - accuracy: 0.9021\n",
      "Epoch 3: val_accuracy improved from 0.97500 to 0.98352, saving model to lstm_model1.h5\n",
      "4488/4488 [==============================] - 55s 12ms/step - loss: 0.0148 - accuracy: 0.9022 - val_loss: 0.0960 - val_accuracy: 0.9835\n",
      "Epoch 4/10\n",
      "4486/4488 [============================>.] - ETA: 0s - loss: 0.0139 - accuracy: 0.8666\n",
      "Epoch 4: val_accuracy improved from 0.98352 to 0.98540, saving model to lstm_model1.h5\n",
      "4488/4488 [==============================] - 57s 13ms/step - loss: 0.0139 - accuracy: 0.8667 - val_loss: 0.0994 - val_accuracy: 0.9854\n",
      "Epoch 5/10\n",
      "4487/4488 [============================>.] - ETA: 0s - loss: 0.0128 - accuracy: 0.8298\n",
      "Epoch 5: val_accuracy did not improve from 0.98540\n",
      "4488/4488 [==============================] - 60s 13ms/step - loss: 0.0128 - accuracy: 0.8298 - val_loss: 0.1019 - val_accuracy: 0.9654\n",
      "Epoch 6/10\n",
      "4487/4488 [============================>.] - ETA: 0s - loss: 0.0122 - accuracy: 0.9416\n",
      "Epoch 6: val_accuracy did not improve from 0.98540\n",
      "4488/4488 [==============================] - 58s 13ms/step - loss: 0.0122 - accuracy: 0.9416 - val_loss: 0.0918 - val_accuracy: 0.9794\n",
      "Epoch 6: early stopping\n"
     ]
    }
   ],
   "source": [
    ", ModelCheckpoint\n",
    "#Step2: Adding the embedding Layer (None,200,128)\n",
    "#128 is a tunable params(Creating Word Embeddings)\n",
    "embed_size = 128\n",
    "x = Embedding(max_features, embed_size)(inp)\n",
    "\n",
    "#Step3: Defining the LSTM Layer with 60 Output\n",
    "x = LSTM(60, return_sequences=True, name='lstm_layer')(x)\n",
    "\n",
    "#Step4: Global Max Pooling Layer to convert 3D tensor into 2D\n",
    "x = GlobalMaxPooling1D()(x)\n",
    "\n",
    "#Step5: Adding a Dropout Reguralisation\n",
    "x = Dropout(0.2)(x)\n",
    "\n",
    "\n",
    "\n",
    "#Step6: Adding a Dense Layer\n",
    "x = Dense(128,activation = 'relu') (x)\n",
    "x = Dense(256,activation = 'relu') (x)\n",
    "x = Dense(128,activation = 'relu') (x)\n",
    "\n",
    "x = Dropout(0.1)(x)\n",
    "\n",
    "#Step7: Final Output Layer\n",
    "x = Dense(6, activation=\"sigmoid\")(x)\n",
    "\n",
    "\n",
    "model2=Model(inputs=inp, outputs = x)\n",
    "\n",
    "model2.compile(loss=\"binary_crossentropy\",\n",
    "              optimizer=\"adam\",\n",
    "              metrics=['accuracy'])\n",
    "\n",
    "es = EarlyStopping(\n",
    "    monitor = 'val_loss',\n",
    "    patience = 5,\n",
    "    verbose = 1,\n",
    "    mode = min\n",
    ")\n",
    "\n",
    "mc = ModelCheckpoint(\n",
    "    'lstm_model1.h5',\n",
    "    monitor = 'val_accuracy',\n",
    "    verbose = 1,\n",
    "    save_best_only = True\n",
    ")\n",
    "\n",
    "\n",
    "batch_size = 32\n",
    "epochs = 10\n",
    "\n",
    "history2 = model2.fit(X_train, y, batch_size = batch_size, epochs = epochs, validation_split=0.1,callbacks = [es,mc],verbose=1)\n"
   ]
  },
  {
   "cell_type": "code",
   "execution_count": null,
   "id": "95fac423",
   "metadata": {},
   "outputs": [],
   "source": []
  },
  {
   "cell_type": "code",
   "execution_count": 144,
   "id": "d98e0429",
   "metadata": {
    "colab": {
     "base_uri": "https://localhost:8080/",
     "height": 298
    },
    "id": "d98e0429",
    "outputId": "7818f202-e70f-4780-d85a-c98dd972bc6b"
   },
   "outputs": [
    {
     "data": {
      "text/plain": [
       "<Figure size 576x360 with 0 Axes>"
      ]
     },
     "metadata": {},
     "output_type": "display_data"
    },
    {
     "data": {
      "image/png": "[encoded data removed]",
      "text/plain": [
       "<Figure size 432x288 with 1 Axes>"
      ]
     },
     "metadata": {
      "needs_background": "light"
     },
     "output_type": "display_data"
    }
   ],
   "source": [
    "plt.figure(figsize=(8,5))\n",
    "pd.DataFrame(history2.history).plot()\n",
    "plt.title(\"best fit dense lstm model\")\n",
    "plt.show()"
   ]
  },
  {
   "cell_type": "code",
   "execution_count": 139,
   "id": "7RX5G3WtO2SE",
   "metadata": {
    "id": "7RX5G3WtO2SE"
   },
   "outputs": [],
   "source": []
  },
  {
   "cell_type": "code",
   "execution_count": 140,
   "id": "03e5225f",
   "metadata": {
    "colab": {
     "base_uri": "https://localhost:8080/"
    },
    "id": "03e5225f",
    "outputId": "16a65c01-9666-4fea-f9d2-bc5211cb10f9"
   },
   "outputs": [
    {
     "name": "stderr",
     "output_type": "stream",
     "text": [
      "WARNING:tensorflow:EarlyStopping mode <built-in function min> is unknown, fallback to auto mode.\n"
     ]
    },
    {
     "name": "stdout",
     "output_type": "stream",
     "text": [
      "Epoch 1/10\n",
      "4485/4488 [============================>.] - ETA: 0s - loss: 0.0703 - accuracy: 0.9404\n",
      "Epoch 1: val_accuracy improved from -inf to 0.99398, saving model to lstm_model2.h5\n",
      "4488/4488 [==============================] - 82s 13ms/step - loss: 0.0703 - accuracy: 0.9404 - val_loss: 0.0496 - val_accuracy: 0.9940\n",
      "Epoch 2/10\n",
      "4484/4488 [============================>.] - ETA: 0s - loss: 0.0446 - accuracy: 0.9846\n",
      "Epoch 2: val_accuracy did not improve from 0.99398\n",
      "4488/4488 [==============================] - 55s 12ms/step - loss: 0.0446 - accuracy: 0.9846 - val_loss: 0.0466 - val_accuracy: 0.9940\n",
      "Epoch 3/10\n",
      "4486/4488 [============================>.] - ETA: 0s - loss: 0.0389 - accuracy: 0.9728\n",
      "Epoch 3: val_accuracy did not improve from 0.99398\n",
      "4488/4488 [==============================] - 54s 12ms/step - loss: 0.0389 - accuracy: 0.9728 - val_loss: 0.0472 - val_accuracy: 0.9926\n",
      "Epoch 4/10\n",
      "4484/4488 [============================>.] - ETA: 0s - loss: 0.0341 - accuracy: 0.9213\n",
      "Epoch 4: val_accuracy did not improve from 0.99398\n",
      "4488/4488 [==============================] - 54s 12ms/step - loss: 0.0341 - accuracy: 0.9214 - val_loss: 0.0483 - val_accuracy: 0.9933\n",
      "Epoch 5/10\n",
      "4486/4488 [============================>.] - ETA: 0s - loss: 0.0298 - accuracy: 0.8963\n",
      "Epoch 5: val_accuracy did not improve from 0.99398\n",
      "4488/4488 [==============================] - 57s 13ms/step - loss: 0.0298 - accuracy: 0.8962 - val_loss: 0.0507 - val_accuracy: 0.9335\n",
      "Epoch 6/10\n",
      "4488/4488 [==============================] - ETA: 0s - loss: 0.0262 - accuracy: 0.8187\n",
      "Epoch 6: val_accuracy did not improve from 0.99398\n",
      "4488/4488 [==============================] - 61s 14ms/step - loss: 0.0262 - accuracy: 0.8187 - val_loss: 0.0560 - val_accuracy: 0.6659\n",
      "Epoch 7/10\n",
      "4484/4488 [============================>.] - ETA: 0s - loss: 0.0229 - accuracy: 0.7337\n",
      "Epoch 7: val_accuracy did not improve from 0.99398\n",
      "4488/4488 [==============================] - 54s 12ms/step - loss: 0.0229 - accuracy: 0.7338 - val_loss: 0.0618 - val_accuracy: 0.9056\n",
      "Epoch 7: early stopping\n"
     ]
    }
   ],
   "source": [
    "\n",
    "#Step2: Adding the embedding Layer (None,200,128)\n",
    "#128 is a tunable params(Creating Word Embeddings)\n",
    "\n",
    "embed_size = 128\n",
    "x = Embedding(max_features, embed_size)(inp)\n",
    "\n",
    "#Step3: Defining the LSTM Layer with 60 Output\n",
    "x = LSTM(60, return_sequences=True, name='lstm_layer')(x)\n",
    "\n",
    "#Step4: Global Max Pooling Layer to convert 3D tensor into 2D\n",
    "x = GlobalMaxPooling1D()(x)\n",
    "\n",
    "#Step5: Adding a Dropout Reguralisation\n",
    "x = Dropout(0.1)(x)\n",
    "\n",
    "#Step6: Adding a Dense Layer\n",
    "x = Dense(50, activation = 'relu')(x)\n",
    "\n",
    "x = Dropout(0.1)(x)\n",
    "\n",
    "#Step7: Final Output Layer\n",
    "x = Dense(6, activation=\"sigmoid\")(x)\n",
    "\n",
    "\n",
    "model1=Model(inputs=inp, outputs = x)\n",
    "\n",
    "model1.compile(loss=\"binary_crossentropy\",\n",
    "              optimizer=\"adam\",\n",
    "              metrics=['accuracy'])\n",
    "\n",
    "\n",
    "es = EarlyStopping(\n",
    "    monitor = 'val_loss',\n",
    "    patience = 5,\n",
    "    verbose = 1,\n",
    "    mode = min\n",
    ")\n",
    "\n",
    "mc = ModelCheckpoint(\n",
    "    'lstm_model2.h5',\n",
    "    monitor = 'val_accuracy',\n",
    "    verbose = 1,\n",
    "    save_best_only = True\n",
    ")\n",
    "\n",
    "\n",
    "batch_size = 32\n",
    "epochs = 10\n",
    "\n",
    "history1 = model1.fit(X_train, y, batch_size = batch_size, epochs = epochs, validation_split=0.1,callbacks = [es,mc],verbose=1)\n"
   ]
  },
  {
   "cell_type": "code",
   "execution_count": 70,
   "id": "77d2f0cc",
   "metadata": {
    "id": "77d2f0cc"
   },
   "outputs": [],
   "source": []
  },
  {
   "cell_type": "code",
   "execution_count": 141,
   "id": "52c514e1",
   "metadata": {
    "colab": {
     "base_uri": "https://localhost:8080/"
    },
    "id": "52c514e1",
    "outputId": "4693cc2c-bb68-4c4d-985f-3ab85f3e9c4b"
   },
   "outputs": [
    {
     "name": "stderr",
     "output_type": "stream",
     "text": [
      "WARNING:tensorflow:EarlyStopping mode <built-in function min> is unknown, fallback to auto mode.\n"
     ]
    },
    {
     "name": "stdout",
     "output_type": "stream",
     "text": [
      "Epoch 1/10\n",
      "4481/4488 [============================>.] - ETA: 0s - loss: 0.0636 - accuracy: 0.9644\n",
      "Epoch 1: val_accuracy improved from -inf to 0.99398, saving model to cnn_model.h5\n",
      "4488/4488 [==============================] - 32s 7ms/step - loss: 0.0636 - accuracy: 0.9644 - val_loss: 0.0515 - val_accuracy: 0.9940\n",
      "Epoch 2/10\n",
      "4488/4488 [==============================] - ETA: 0s - loss: 0.0464 - accuracy: 0.9922\n",
      "Epoch 2: val_accuracy did not improve from 0.99398\n",
      "4488/4488 [==============================] - 31s 7ms/step - loss: 0.0464 - accuracy: 0.9922 - val_loss: 0.0504 - val_accuracy: 0.9940\n",
      "Epoch 3/10\n",
      "4485/4488 [============================>.] - ETA: 0s - loss: 0.0405 - accuracy: 0.9858\n",
      "Epoch 3: val_accuracy did not improve from 0.99398\n",
      "4488/4488 [==============================] - 30s 7ms/step - loss: 0.0405 - accuracy: 0.9858 - val_loss: 0.0518 - val_accuracy: 0.9934\n",
      "Epoch 4/10\n",
      "4484/4488 [============================>.] - ETA: 0s - loss: 0.0357 - accuracy: 0.9913\n",
      "Epoch 4: val_accuracy did not improve from 0.99398\n",
      "4488/4488 [==============================] - 30s 7ms/step - loss: 0.0357 - accuracy: 0.9913 - val_loss: 0.0537 - val_accuracy: 0.9939\n",
      "Epoch 5/10\n",
      "4487/4488 [============================>.] - ETA: 0s - loss: 0.0320 - accuracy: 0.9816\n",
      "Epoch 5: val_accuracy did not improve from 0.99398\n",
      "4488/4488 [==============================] - 30s 7ms/step - loss: 0.0320 - accuracy: 0.9816 - val_loss: 0.0560 - val_accuracy: 0.9940\n",
      "Epoch 6/10\n",
      "4487/4488 [============================>.] - ETA: 0s - loss: 0.0292 - accuracy: 0.9776\n",
      "Epoch 6: val_accuracy did not improve from 0.99398\n",
      "4488/4488 [==============================] - 30s 7ms/step - loss: 0.0292 - accuracy: 0.9776 - val_loss: 0.0598 - val_accuracy: 0.9939\n",
      "Epoch 7/10\n",
      "4488/4488 [==============================] - ETA: 0s - loss: 0.0274 - accuracy: 0.9049\n",
      "Epoch 7: val_accuracy did not improve from 0.99398\n",
      "4488/4488 [==============================] - 30s 7ms/step - loss: 0.0274 - accuracy: 0.9049 - val_loss: 0.0617 - val_accuracy: 0.9931\n",
      "Epoch 7: early stopping\n"
     ]
    }
   ],
   "source": [
    "model3 = Sequential()\n",
    "model3.add(Embedding(max_features, embed_size))\n",
    "model3.add(Dropout(0.2))\n",
    "\n",
    "\n",
    "model3.add(Conv1D(150, 3, activation = 'relu'))\n",
    "model3.add(MaxPooling1D())\n",
    "model3.add(Conv1D(150, 3, activation = 'relu'))\n",
    "model3.add(GlobalMaxPooling1D())\n",
    "model3.add(Dense(150, activation = 'relu'))\n",
    "model3.add(Dense(300, activation = 'relu'))\n",
    "model3.add(Dense(150, activation = 'relu'))\n",
    "model3.add(Dropout(0.2))\n",
    "\n",
    "model3.add(Dense(6, activation = 'sigmoid'))\n",
    "\n",
    "# Display the model structure\n",
    "model3.compile(loss=\"binary_crossentropy\",\n",
    "              optimizer=\"adam\",\n",
    "              metrics=['accuracy'])\n",
    "es = EarlyStopping(\n",
    "    monitor = 'val_loss',\n",
    "    patience = 5,\n",
    "    verbose = 1,\n",
    "    mode = min\n",
    ")\n",
    "\n",
    "mc = ModelCheckpoint(\n",
    "    'cnn_model.h5',\n",
    "    monitor = 'val_accuracy',\n",
    "    verbose = 1,\n",
    "    save_best_only = True\n",
    ")\n",
    "\n",
    "\n",
    "batch_size = 32\n",
    "epochs = 10\n",
    "\n",
    "history3 = model3.fit(X_train, y, batch_size = batch_size, epochs = epochs, validation_split=0.1,callbacks = [es,mc],verbose=1)\n"
   ]
  },
  {
   "cell_type": "code",
   "execution_count": 142,
   "id": "wlDh4anepKVl",
   "metadata": {
    "colab": {
     "base_uri": "https://localhost:8080/",
     "height": 298
    },
    "id": "wlDh4anepKVl",
    "outputId": "887462c2-7659-4527-eb31-e794911f8934"
   },
   "outputs": [
    {
     "data": {
      "text/plain": [
       "<Figure size 576x360 with 0 Axes>"
      ]
     },
     "metadata": {},
     "output_type": "display_data"
    },
    {
     "data": {
      "image/png": "[encoded data removed]",
      "text/plain": [
       "<Figure size 432x288 with 1 Axes>"
      ]
     },
     "metadata": {
      "needs_background": "light"
     },
     "output_type": "display_data"
    }
   ],
   "source": [
    "plt.figure(figsize=(8,5))\n",
    "pd.DataFrame(history1.history).plot()\n",
    "plt.title(\"best fit simple lstm\")\n",
    "plt.show()"
   ]
  },
  {
   "cell_type": "code",
   "execution_count": 143,
   "id": "XmMr_YE4pKYC",
   "metadata": {
    "colab": {
     "base_uri": "https://localhost:8080/",
     "height": 298
    },
    "id": "XmMr_YE4pKYC",
    "outputId": "ce8180b9-f530-4955-cb84-88c6a3180451"
   },
   "outputs": [
    {
     "data": {
      "text/plain": [
       "<Figure size 576x360 with 0 Axes>"
      ]
     },
     "metadata": {},
     "output_type": "display_data"
    },
    {
     "data": {
      "image/png": "[encoded data removed]",
      "text/plain": [
       "<Figure size 432x288 with 1 Axes>"
      ]
     },
     "metadata": {
      "needs_background": "light"
     },
     "output_type": "display_data"
    }
   ],
   "source": [
    "plt.figure(figsize=(8,5))\n",
    "pd.DataFrame(history3.history).plot()\n",
    "plt.title(\"best fit cnn model\")\n",
    "plt.show()"
   ]
  },
  {
   "cell_type": "code",
   "execution_count": 156,
   "id": "fQ0sLGqQpKbf",
   "metadata": {
    "id": "fQ0sLGqQpKbf"
   },
   "outputs": [],
   "source": []
  },
  {
   "cell_type": "markdown",
   "id": "f54367d7",
   "metadata": {
    "id": "3-lU9jskTcZo"
   },
   "source": [
    "## using machine learning algorithms"
   ]
  },
  {
   "cell_type": "code",
   "execution_count": 17,
   "id": "7UHwDBzvVp31",
   "metadata": {
    "id": "7UHwDBzvVp31"
   },
   "outputs": [
    {
     "data": {
      "text/html": [
       "<div>\n",
       "<style scoped>\n",
       "    .dataframe tbody tr th:only-of-type {\n",
       "        vertical-align: middle;\n",
       "    }\n",
       "\n",
       "    .dataframe tbody tr th {\n",
       "        vertical-align: top;\n",
       "    }\n",
       "\n",
       "    .dataframe thead th {\n",
       "        text-align: right;\n",
       "    }\n",
       "</style>\n",
       "<table border=\"1\" class=\"dataframe\">\n",
       "  <thead>\n",
       "    <tr style=\"text-align: right;\">\n",
       "      <th></th>\n",
       "      <th>id</th>\n",
       "      <th>comment_text</th>\n",
       "      <th>toxic</th>\n",
       "      <th>severe_toxic</th>\n",
       "      <th>obscene</th>\n",
       "      <th>threat</th>\n",
       "      <th>insult</th>\n",
       "      <th>identity_hate</th>\n",
       "    </tr>\n",
       "  </thead>\n",
       "  <tbody>\n",
       "    <tr>\n",
       "      <th>0</th>\n",
       "      <td>0000997932d777bf</td>\n",
       "      <td>Explanation\\nWhy the edits made under my usern...</td>\n",
       "      <td>0</td>\n",
       "      <td>0</td>\n",
       "      <td>0</td>\n",
       "      <td>0</td>\n",
       "      <td>0</td>\n",
       "      <td>0</td>\n",
       "    </tr>\n",
       "    <tr>\n",
       "      <th>1</th>\n",
       "      <td>000103f0d9cfb60f</td>\n",
       "      <td>D'aww! He matches this background colour I'm s...</td>\n",
       "      <td>0</td>\n",
       "      <td>0</td>\n",
       "      <td>0</td>\n",
       "      <td>0</td>\n",
       "      <td>0</td>\n",
       "      <td>0</td>\n",
       "    </tr>\n",
       "    <tr>\n",
       "      <th>2</th>\n",
       "      <td>000113f07ec002fd</td>\n",
       "      <td>Hey man, I'm really not trying to edit war. It...</td>\n",
       "      <td>0</td>\n",
       "      <td>0</td>\n",
       "      <td>0</td>\n",
       "      <td>0</td>\n",
       "      <td>0</td>\n",
       "      <td>0</td>\n",
       "    </tr>\n",
       "    <tr>\n",
       "      <th>3</th>\n",
       "      <td>0001b41b1c6bb37e</td>\n",
       "      <td>\"\\nMore\\nI can't make any real suggestions on ...</td>\n",
       "      <td>0</td>\n",
       "      <td>0</td>\n",
       "      <td>0</td>\n",
       "      <td>0</td>\n",
       "      <td>0</td>\n",
       "      <td>0</td>\n",
       "    </tr>\n",
       "  </tbody>\n",
       "</table>\n",
       "</div>"
      ],
      "text/plain": [
       "                 id                                       comment_text  toxic  \\\n",
       "0  0000997932d777bf  Explanation\\nWhy the edits made under my usern...      0   \n",
       "1  000103f0d9cfb60f  D'aww! He matches this background colour I'm s...      0   \n",
       "2  000113f07ec002fd  Hey man, I'm really not trying to edit war. It...      0   \n",
       "3  0001b41b1c6bb37e  \"\\nMore\\nI can't make any real suggestions on ...      0   \n",
       "\n",
       "   severe_toxic  obscene  threat  insult  identity_hate  \n",
       "0             0        0       0       0              0  \n",
       "1             0        0       0       0              0  \n",
       "2             0        0       0       0              0  \n",
       "3             0        0       0       0              0  "
      ]
     },
     "execution_count": 17,
     "metadata": {},
     "output_type": "execute_result"
    }
   ],
   "source": [
    "# Loading Libraries\n",
    "import pandas as pd\n",
    "import numpy as np\n",
    "import matplotlib.pyplot as plt\n",
    "%matplotlib inline\n",
    "import seaborn as sns\n",
    "import nltk\n",
    "import os\n",
    "import nltk.corpus\n",
    "from nltk.tokenize import word_tokenize\n",
    "#loading dataset\n",
    "data = pd.read_csv(\"train.csv\")\n",
    "data.head(4)"
   ]
  },
  {
   "cell_type": "code",
   "execution_count": 48,
   "id": "f0e40860",
   "metadata": {},
   "outputs": [],
   "source": [
    "# creating matrix to store predcicted values\n",
    "l, b = len(y_train), 6;\n",
    "Pred_Matrix_train = [[0 for x in range(l)] for y in range(b)] \n",
    "from sklearn.metrics import accuracy_score\n",
    "from sklearn.metrics import classification_report\n",
    "from sklearn.metrics import roc_auc_score\n",
    "from sklearn.metrics import roc_curve\n",
    "from sklearn.metrics import confusion_matrix\n"
   ]
  },
  {
   "cell_type": "markdown",
   "id": "19844bc0",
   "metadata": {
    "id": "19844bc0"
   },
   "source": []
  },
  {
   "cell_type": "code",
   "execution_count": 44,
   "id": "241cb80e",
   "metadata": {
    "id": "241cb80e"
   },
   "outputs": [
    {
     "name": "stderr",
     "output_type": "stream",
     "text": [
      "C:\\Users\\pares\\anaconda3\\lib\\site-packages\\sklearn\\linear_model\\_sag.py:350: ConvergenceWarning: The max_iter was reached which means the coef_ did not converge\n",
      "  warnings.warn(\n",
      "C:\\Users\\pares\\anaconda3\\lib\\site-packages\\sklearn\\linear_model\\_sag.py:350: ConvergenceWarning: The max_iter was reached which means the coef_ did not converge\n",
      "  warnings.warn(\n",
      "C:\\Users\\pares\\anaconda3\\lib\\site-packages\\sklearn\\linear_model\\_sag.py:350: ConvergenceWarning: The max_iter was reached which means the coef_ did not converge\n",
      "  warnings.warn(\n",
      "C:\\Users\\pares\\anaconda3\\lib\\site-packages\\sklearn\\linear_model\\_sag.py:350: ConvergenceWarning: The max_iter was reached which means the coef_ did not converge\n",
      "  warnings.warn(\n",
      "C:\\Users\\pares\\anaconda3\\lib\\site-packages\\sklearn\\linear_model\\_sag.py:350: ConvergenceWarning: The max_iter was reached which means the coef_ did not converge\n",
      "  warnings.warn(\n",
      "C:\\Users\\pares\\anaconda3\\lib\\site-packages\\sklearn\\linear_model\\_sag.py:350: ConvergenceWarning: The max_iter was reached which means the coef_ did not converge\n",
      "  warnings.warn(\n"
     ]
    },
    {
     "ename": "NameError",
     "evalue": "name 'metrics' is not defined",
     "output_type": "error",
     "traceback": [
      "\u001b[1;31m---------------------------------------------------------------------------\u001b[0m",
      "\u001b[1;31mNameError\u001b[0m                                 Traceback (most recent call last)",
      "Input \u001b[1;32mIn [44]\u001b[0m, in \u001b[0;36m<cell line: 14>\u001b[1;34m()\u001b[0m\n\u001b[0;32m     12\u001b[0m pred_lr \u001b[38;5;241m=\u001b[39m pd\u001b[38;5;241m.\u001b[39mDataFrame(data\u001b[38;5;241m=\u001b[39mPred_Matrix_train)\n\u001b[0;32m     13\u001b[0m pred_lr_val \u001b[38;5;241m=\u001b[39mpred_lr\u001b[38;5;241m.\u001b[39mT\n\u001b[1;32m---> 14\u001b[0m \u001b[38;5;28mprint\u001b[39m(\u001b[38;5;124m'\u001b[39m\u001b[38;5;124mAccuracy of the Logistic Regression model : \u001b[39m\u001b[38;5;124m'\u001b[39m\u001b[38;5;241m+\u001b[39m\u001b[38;5;28mstr\u001b[39m(\u001b[43mmetrics\u001b[49m\u001b[38;5;241m.\u001b[39maccuracy_score(y_test, pred_lr_val)))\n\u001b[0;32m     15\u001b[0m \u001b[38;5;28mprint\u001b[39m(\u001b[38;5;124m'\u001b[39m\u001b[38;5;124mClassification Report for Logistic Regression : \u001b[39m\u001b[38;5;124m'\u001b[39m)\n\u001b[0;32m     16\u001b[0m \u001b[38;5;28mprint\u001b[39m(metrics\u001b[38;5;241m.\u001b[39mclassification_report(y_test, pred_lr_val))\n",
      "\u001b[1;31mNameError\u001b[0m: name 'metrics' is not defined"
     ]
    }
   ],
   "source": [
    "#-------------------------------\n",
    "#---Logistic\n",
    "from sklearn.linear_model import LogisticRegression\n",
    "#defining logistic regression function\n",
    "def logreg(train_x,train_y,test_x):\n",
    "    logreg = LogisticRegression(solver='sag')\n",
    "    logreg.fit(X_train, y_train.iloc[:,i])\n",
    "    y_pred = logreg.predict(X_test)\n",
    "    return y_pred\n",
    "for i in range(0, 6):\n",
    "    Pred_Matrix_train[i] = logreg(X_train, y_train.iloc[:,i],X_test)\n",
    "pred_lr = pd.DataFrame(data=Pred_Matrix_train)\n",
    "pred_lr_val =pred_lr.T\n"
   ]
  },
  {
   "cell_type": "code",
   "execution_count": 46,
   "id": "24f27672",
   "metadata": {},
   "outputs": [
    {
     "name": "stdout",
     "output_type": "stream",
     "text": [
      "Accuracy of the Logistic Regression model : 0.9030549898167006\n",
      "Classification Report for Logistic Regression : \n",
      "              precision    recall  f1-score   support\n",
      "\n",
      "           0       0.97      0.23      0.38      3103\n",
      "           1       0.47      0.17      0.25       303\n",
      "           2       0.97      0.26      0.41      1687\n",
      "           3       0.00      0.00      0.00       101\n",
      "           4       0.82      0.19      0.30      1574\n",
      "           5       0.60      0.01      0.02       286\n",
      "\n",
      "   micro avg       0.90      0.21      0.35      7054\n",
      "   macro avg       0.64      0.14      0.23      7054\n",
      "weighted avg       0.88      0.21      0.34      7054\n",
      " samples avg       0.02      0.02      0.02      7054\n",
      "\n"
     ]
    },
    {
     "name": "stderr",
     "output_type": "stream",
     "text": [
      "C:\\Users\\pares\\anaconda3\\lib\\site-packages\\sklearn\\metrics\\_classification.py:1334: UndefinedMetricWarning: Precision and F-score are ill-defined and being set to 0.0 in samples with no predicted labels. Use `zero_division` parameter to control this behavior.\n",
      "  _warn_prf(average, modifier, msg_start, len(result))\n",
      "C:\\Users\\pares\\anaconda3\\lib\\site-packages\\sklearn\\metrics\\_classification.py:1334: UndefinedMetricWarning: Recall and F-score are ill-defined and being set to 0.0 in samples with no true labels. Use `zero_division` parameter to control this behavior.\n",
      "  _warn_prf(average, modifier, msg_start, len(result))\n"
     ]
    }
   ],
   "source": [
    "print('Accuracy of the Logistic Regression model : '+str(accuracy_score(y_test, pred_lr_val)))\n",
    "print('Classification Report for Logistic Regression : ')\n",
    "print(classification_report(y_test, pred_lr_val))"
   ]
  },
  {
   "cell_type": "code",
   "execution_count": 47,
   "id": "5ZJmLz07S6Kf",
   "metadata": {
    "id": "5ZJmLz07S6Kf"
   },
   "outputs": [
    {
     "name": "stdout",
     "output_type": "stream",
     "text": [
      "Accuracy of the Naive Bayes  model : 0.8963496788344039\n",
      "Classification Report for Naive Bayes : \n",
      "              precision    recall  f1-score   support\n",
      "\n",
      "           0       0.73      0.59      0.66      3103\n",
      "           1       0.31      0.42      0.36       303\n",
      "           2       0.65      0.59      0.62      1687\n",
      "           3       0.05      0.04      0.04       101\n",
      "           4       0.59      0.51      0.55      1574\n",
      "           5       0.21      0.15      0.18       286\n",
      "\n",
      "   micro avg       0.62      0.54      0.58      7054\n",
      "   macro avg       0.42      0.39      0.40      7054\n",
      "weighted avg       0.63      0.54      0.58      7054\n",
      " samples avg       0.05      0.05      0.05      7054\n",
      "\n"
     ]
    },
    {
     "name": "stderr",
     "output_type": "stream",
     "text": [
      "C:\\Users\\pares\\anaconda3\\lib\\site-packages\\sklearn\\metrics\\_classification.py:1334: UndefinedMetricWarning: Precision and F-score are ill-defined and being set to 0.0 in samples with no predicted labels. Use `zero_division` parameter to control this behavior.\n",
      "  _warn_prf(average, modifier, msg_start, len(result))\n",
      "C:\\Users\\pares\\anaconda3\\lib\\site-packages\\sklearn\\metrics\\_classification.py:1334: UndefinedMetricWarning: Recall and F-score are ill-defined and being set to 0.0 in samples with no true labels. Use `zero_division` parameter to control this behavior.\n",
      "  _warn_prf(average, modifier, msg_start, len(result))\n"
     ]
    }
   ],
   "source": [
    "#---------Naive Baye's------\n",
    "from sklearn.naive_bayes import MultinomialNB\n",
    "for i in range(0,6):\n",
    "    mnb_model = MultinomialNB().fit(X_train, y_train.iloc[:,i])\n",
    "#     Pred_Matrix[i]= mnb_model.predict_proba(x_test)[:,1]\n",
    "    Pred_Matrix_train[i]= mnb_model.predict(X_test)\n",
    "pred_mnb = pd.DataFrame(data=Pred_Matrix_train)\n",
    "pred_mnb_val =pred_mnb.T\n",
    "print('Accuracy of the Naive Bayes  model : '+str(accuracy_score(y_test, pred_mnb_val)))\n",
    "print('Classification Report for Naive Bayes : ')\n",
    "print(classification_report(y_test, pred_mnb_val))"
   ]
  }
 ],
 "metadata": {
  "accelerator": "GPU",
  "colab": {
   "collapsed_sections": [
    "90e2940b",
    "19844bc0",
    "1eb24def"
   ],
   "provenance": []
  },
  "kernelspec": {
   "display_name": "Python 3",
   "language": "python",
   "name": "python3"
  },
  "language_info": {
   "codemirror_mode": {
    "name": "ipython",
    "version": 3
   },
   "file_extension": ".py",
   "mimetype": "text/x-python",
   "name": "python",
   "nbconvert_exporter": "python",
   "pygments_lexer": "ipython3",
   "version": "3.8.13"
  }
 },
 "nbformat": 4,
 "nbformat_minor": 5
}
